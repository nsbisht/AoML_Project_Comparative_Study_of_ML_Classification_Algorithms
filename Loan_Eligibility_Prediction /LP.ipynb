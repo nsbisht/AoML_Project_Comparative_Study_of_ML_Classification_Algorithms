{
 "cells": [
  {
   "cell_type": "markdown",
   "id": "a4c4e838",
   "metadata": {},
   "source": [
    "# Application 3: Loan Eligibility Prediction"
   ]
  },
  {
   "cell_type": "code",
   "execution_count": 1,
   "id": "09d2f13d-2db5-47fb-8ad5-8a50e6c11fba",
   "metadata": {},
   "outputs": [],
   "source": [
    "import pandas as pd\n",
    "import numpy as np\n",
    "import seaborn as sns\n",
    "import matplotlib.pyplot as plt\n",
    "\n",
    "from sklearn import datasets, preprocessing \n",
    "from sklearn.model_selection import train_test_split\n",
    "\n",
    "from sklearn.linear_model import LogisticRegression\n",
    "from sklearn.discriminant_analysis import LinearDiscriminantAnalysis\n",
    "from sklearn.svm import SVC\n",
    "from sklearn.neighbors import KNeighborsClassifier\n",
    "from sklearn.naive_bayes import GaussianNB\n",
    "from sklearn.tree import DecisionTreeClassifier, plot_tree\n",
    "from sklearn.ensemble import RandomForestClassifier\n",
    "from sklearn.metrics import *\n",
    "\n",
    "import warnings\n",
    "warnings.filterwarnings('ignore')"
   ]
  },
  {
   "cell_type": "code",
   "execution_count": 2,
   "id": "c79fdd79-c6ca-45ca-b6ae-12caff2bc9c4",
   "metadata": {},
   "outputs": [],
   "source": [
    "import ipywidgets as widgets\n",
    "from IPython.display import clear_output"
   ]
  },
  {
   "cell_type": "markdown",
   "id": "7464cf99",
   "metadata": {},
   "source": [
    "Predict Loan Eligibility for Dream Housing Finance company\n",
    "\n",
    "Dream Housing Finance company deals in all kinds of home loans. They have presence across all urban, semi urban and rural areas. Customer first applies for home loan and after that company validates the customer eligibility for loan.\n",
    "\n",
    "Company wants to automate the loan eligibility process (real time) based on customer detail provided while filling online application form. These details are Gender, Marital Status, Education, Number of Dependents, Income, Loan Amount, Credit History and others. To automate this process, they have provided a dataset to identify the customers segments that are eligible for loan amount so that they can specifically target these customers. "
   ]
  },
  {
   "cell_type": "markdown",
   "id": "7cc954ff",
   "metadata": {},
   "source": [
    "## Dataset"
   ]
  },
  {
   "cell_type": "markdown",
   "id": "47c05878",
   "metadata": {},
   "source": [
    "CSV containing the customers for whom loan eligibility is known."
   ]
  },
  {
   "cell_type": "markdown",
   "id": "56e0688d",
   "metadata": {},
   "source": [
    "**Variable** | **Description**\n",
    "\n",
    "- Loan_ID | Unique Loan ID\n",
    "- Gender | Male / Female\n",
    "- Married | Applicant married (Y / N)\n",
    "- Dependents | Number of dependents\n",
    "- Education | Applicant Education (Graduate / Under Graduate)\n",
    "- Self_Employed | Self employed (Y / N)\n",
    "- ApplicantIncome | Applicant income\n",
    "- CoapplicantIncome | Coapplicant income\n",
    "- LoanAmount | Loan amount in thousands\n",
    "- Loan_Amount_Term | Term of loan in months\n",
    "- Credit_History | credit history meets guidelines\n",
    "- Property_Area | Urban / Semi Urban / Rural\n",
    "- Loan_Status | (**Target**) Loan approved (Y/N)"
   ]
  },
  {
   "cell_type": "code",
   "execution_count": 3,
   "id": "309d6406",
   "metadata": {},
   "outputs": [],
   "source": [
    "data = pd.read_csv('data.csv')"
   ]
  },
  {
   "cell_type": "code",
   "execution_count": 4,
   "id": "af7d22c6",
   "metadata": {},
   "outputs": [
    {
     "data": {
      "text/plain": [
       "Index(['Loan_ID', 'Gender', 'Married', 'Dependents', 'Education',\n",
       "       'Self_Employed', 'ApplicantIncome', 'CoapplicantIncome', 'LoanAmount',\n",
       "       'Loan_Amount_Term', 'Credit_History', 'Property_Area', 'Loan_Status'],\n",
       "      dtype='object')"
      ]
     },
     "execution_count": 4,
     "metadata": {},
     "output_type": "execute_result"
    }
   ],
   "source": [
    "data.columns"
   ]
  },
  {
   "cell_type": "code",
   "execution_count": 5,
   "id": "2bbd4d71",
   "metadata": {},
   "outputs": [
    {
     "data": {
      "text/plain": [
       "Loan_ID               object\n",
       "Gender                object\n",
       "Married               object\n",
       "Dependents            object\n",
       "Education             object\n",
       "Self_Employed         object\n",
       "ApplicantIncome        int64\n",
       "CoapplicantIncome    float64\n",
       "LoanAmount           float64\n",
       "Loan_Amount_Term     float64\n",
       "Credit_History       float64\n",
       "Property_Area         object\n",
       "Loan_Status           object\n",
       "dtype: object"
      ]
     },
     "execution_count": 5,
     "metadata": {},
     "output_type": "execute_result"
    }
   ],
   "source": [
    "data.dtypes"
   ]
  },
  {
   "cell_type": "code",
   "execution_count": 6,
   "id": "830dda02",
   "metadata": {},
   "outputs": [
    {
     "data": {
      "text/plain": [
       "(614, 13)"
      ]
     },
     "execution_count": 6,
     "metadata": {},
     "output_type": "execute_result"
    }
   ],
   "source": [
    "data.shape"
   ]
  },
  {
   "cell_type": "code",
   "execution_count": 7,
   "id": "1dba05a2",
   "metadata": {},
   "outputs": [
    {
     "data": {
      "text/html": [
       "<div>\n",
       "<style scoped>\n",
       "    .dataframe tbody tr th:only-of-type {\n",
       "        vertical-align: middle;\n",
       "    }\n",
       "\n",
       "    .dataframe tbody tr th {\n",
       "        vertical-align: top;\n",
       "    }\n",
       "\n",
       "    .dataframe thead th {\n",
       "        text-align: right;\n",
       "    }\n",
       "</style>\n",
       "<table border=\"1\" class=\"dataframe\">\n",
       "  <thead>\n",
       "    <tr style=\"text-align: right;\">\n",
       "      <th></th>\n",
       "      <th>Loan_ID</th>\n",
       "      <th>Gender</th>\n",
       "      <th>Married</th>\n",
       "      <th>Dependents</th>\n",
       "      <th>Education</th>\n",
       "      <th>Self_Employed</th>\n",
       "      <th>ApplicantIncome</th>\n",
       "      <th>CoapplicantIncome</th>\n",
       "      <th>LoanAmount</th>\n",
       "      <th>Loan_Amount_Term</th>\n",
       "      <th>Credit_History</th>\n",
       "      <th>Property_Area</th>\n",
       "      <th>Loan_Status</th>\n",
       "    </tr>\n",
       "  </thead>\n",
       "  <tbody>\n",
       "    <tr>\n",
       "      <th>128</th>\n",
       "      <td>LP001451</td>\n",
       "      <td>Male</td>\n",
       "      <td>Yes</td>\n",
       "      <td>1</td>\n",
       "      <td>Graduate</td>\n",
       "      <td>Yes</td>\n",
       "      <td>10513</td>\n",
       "      <td>3850.0</td>\n",
       "      <td>160.0</td>\n",
       "      <td>180.0</td>\n",
       "      <td>0.0</td>\n",
       "      <td>Urban</td>\n",
       "      <td>N</td>\n",
       "    </tr>\n",
       "    <tr>\n",
       "      <th>361</th>\n",
       "      <td>LP002170</td>\n",
       "      <td>Male</td>\n",
       "      <td>Yes</td>\n",
       "      <td>2</td>\n",
       "      <td>Graduate</td>\n",
       "      <td>No</td>\n",
       "      <td>5000</td>\n",
       "      <td>3667.0</td>\n",
       "      <td>236.0</td>\n",
       "      <td>360.0</td>\n",
       "      <td>1.0</td>\n",
       "      <td>Semiurban</td>\n",
       "      <td>Y</td>\n",
       "    </tr>\n",
       "    <tr>\n",
       "      <th>190</th>\n",
       "      <td>LP001653</td>\n",
       "      <td>Male</td>\n",
       "      <td>No</td>\n",
       "      <td>0</td>\n",
       "      <td>Not Graduate</td>\n",
       "      <td>No</td>\n",
       "      <td>4885</td>\n",
       "      <td>0.0</td>\n",
       "      <td>48.0</td>\n",
       "      <td>360.0</td>\n",
       "      <td>1.0</td>\n",
       "      <td>Rural</td>\n",
       "      <td>Y</td>\n",
       "    </tr>\n",
       "    <tr>\n",
       "      <th>153</th>\n",
       "      <td>LP001532</td>\n",
       "      <td>Male</td>\n",
       "      <td>Yes</td>\n",
       "      <td>2</td>\n",
       "      <td>Not Graduate</td>\n",
       "      <td>No</td>\n",
       "      <td>2281</td>\n",
       "      <td>0.0</td>\n",
       "      <td>113.0</td>\n",
       "      <td>360.0</td>\n",
       "      <td>1.0</td>\n",
       "      <td>Rural</td>\n",
       "      <td>N</td>\n",
       "    </tr>\n",
       "    <tr>\n",
       "      <th>203</th>\n",
       "      <td>LP001688</td>\n",
       "      <td>Male</td>\n",
       "      <td>Yes</td>\n",
       "      <td>1</td>\n",
       "      <td>Not Graduate</td>\n",
       "      <td>No</td>\n",
       "      <td>3500</td>\n",
       "      <td>1083.0</td>\n",
       "      <td>135.0</td>\n",
       "      <td>360.0</td>\n",
       "      <td>1.0</td>\n",
       "      <td>Urban</td>\n",
       "      <td>Y</td>\n",
       "    </tr>\n",
       "  </tbody>\n",
       "</table>\n",
       "</div>"
      ],
      "text/plain": [
       "      Loan_ID Gender Married Dependents     Education Self_Employed  \\\n",
       "128  LP001451   Male     Yes          1      Graduate           Yes   \n",
       "361  LP002170   Male     Yes          2      Graduate            No   \n",
       "190  LP001653   Male      No          0  Not Graduate            No   \n",
       "153  LP001532   Male     Yes          2  Not Graduate            No   \n",
       "203  LP001688   Male     Yes          1  Not Graduate            No   \n",
       "\n",
       "     ApplicantIncome  CoapplicantIncome  LoanAmount  Loan_Amount_Term  \\\n",
       "128            10513             3850.0       160.0             180.0   \n",
       "361             5000             3667.0       236.0             360.0   \n",
       "190             4885                0.0        48.0             360.0   \n",
       "153             2281                0.0       113.0             360.0   \n",
       "203             3500             1083.0       135.0             360.0   \n",
       "\n",
       "     Credit_History Property_Area Loan_Status  \n",
       "128             0.0         Urban           N  \n",
       "361             1.0     Semiurban           Y  \n",
       "190             1.0         Rural           Y  \n",
       "153             1.0         Rural           N  \n",
       "203             1.0         Urban           Y  "
      ]
     },
     "execution_count": 7,
     "metadata": {},
     "output_type": "execute_result"
    }
   ],
   "source": [
    "data.sample(5)"
   ]
  },
  {
   "cell_type": "code",
   "execution_count": 8,
   "id": "11705c9a",
   "metadata": {},
   "outputs": [
    {
     "data": {
      "text/html": [
       "<div>\n",
       "<style scoped>\n",
       "    .dataframe tbody tr th:only-of-type {\n",
       "        vertical-align: middle;\n",
       "    }\n",
       "\n",
       "    .dataframe tbody tr th {\n",
       "        vertical-align: top;\n",
       "    }\n",
       "\n",
       "    .dataframe thead th {\n",
       "        text-align: right;\n",
       "    }\n",
       "</style>\n",
       "<table border=\"1\" class=\"dataframe\">\n",
       "  <thead>\n",
       "    <tr style=\"text-align: right;\">\n",
       "      <th></th>\n",
       "      <th>ApplicantIncome</th>\n",
       "      <th>CoapplicantIncome</th>\n",
       "      <th>LoanAmount</th>\n",
       "      <th>Loan_Amount_Term</th>\n",
       "      <th>Credit_History</th>\n",
       "    </tr>\n",
       "  </thead>\n",
       "  <tbody>\n",
       "    <tr>\n",
       "      <th>count</th>\n",
       "      <td>614.000000</td>\n",
       "      <td>614.000000</td>\n",
       "      <td>592.000000</td>\n",
       "      <td>600.00000</td>\n",
       "      <td>564.000000</td>\n",
       "    </tr>\n",
       "    <tr>\n",
       "      <th>mean</th>\n",
       "      <td>5403.459283</td>\n",
       "      <td>1621.245798</td>\n",
       "      <td>146.412162</td>\n",
       "      <td>342.00000</td>\n",
       "      <td>0.842199</td>\n",
       "    </tr>\n",
       "    <tr>\n",
       "      <th>std</th>\n",
       "      <td>6109.041673</td>\n",
       "      <td>2926.248369</td>\n",
       "      <td>85.587325</td>\n",
       "      <td>65.12041</td>\n",
       "      <td>0.364878</td>\n",
       "    </tr>\n",
       "    <tr>\n",
       "      <th>min</th>\n",
       "      <td>150.000000</td>\n",
       "      <td>0.000000</td>\n",
       "      <td>9.000000</td>\n",
       "      <td>12.00000</td>\n",
       "      <td>0.000000</td>\n",
       "    </tr>\n",
       "    <tr>\n",
       "      <th>25%</th>\n",
       "      <td>2877.500000</td>\n",
       "      <td>0.000000</td>\n",
       "      <td>100.000000</td>\n",
       "      <td>360.00000</td>\n",
       "      <td>1.000000</td>\n",
       "    </tr>\n",
       "    <tr>\n",
       "      <th>50%</th>\n",
       "      <td>3812.500000</td>\n",
       "      <td>1188.500000</td>\n",
       "      <td>128.000000</td>\n",
       "      <td>360.00000</td>\n",
       "      <td>1.000000</td>\n",
       "    </tr>\n",
       "    <tr>\n",
       "      <th>75%</th>\n",
       "      <td>5795.000000</td>\n",
       "      <td>2297.250000</td>\n",
       "      <td>168.000000</td>\n",
       "      <td>360.00000</td>\n",
       "      <td>1.000000</td>\n",
       "    </tr>\n",
       "    <tr>\n",
       "      <th>max</th>\n",
       "      <td>81000.000000</td>\n",
       "      <td>41667.000000</td>\n",
       "      <td>700.000000</td>\n",
       "      <td>480.00000</td>\n",
       "      <td>1.000000</td>\n",
       "    </tr>\n",
       "  </tbody>\n",
       "</table>\n",
       "</div>"
      ],
      "text/plain": [
       "       ApplicantIncome  CoapplicantIncome  LoanAmount  Loan_Amount_Term  \\\n",
       "count       614.000000         614.000000  592.000000         600.00000   \n",
       "mean       5403.459283        1621.245798  146.412162         342.00000   \n",
       "std        6109.041673        2926.248369   85.587325          65.12041   \n",
       "min         150.000000           0.000000    9.000000          12.00000   \n",
       "25%        2877.500000           0.000000  100.000000         360.00000   \n",
       "50%        3812.500000        1188.500000  128.000000         360.00000   \n",
       "75%        5795.000000        2297.250000  168.000000         360.00000   \n",
       "max       81000.000000       41667.000000  700.000000         480.00000   \n",
       "\n",
       "       Credit_History  \n",
       "count      564.000000  \n",
       "mean         0.842199  \n",
       "std          0.364878  \n",
       "min          0.000000  \n",
       "25%          1.000000  \n",
       "50%          1.000000  \n",
       "75%          1.000000  \n",
       "max          1.000000  "
      ]
     },
     "execution_count": 8,
     "metadata": {},
     "output_type": "execute_result"
    }
   ],
   "source": [
    "data.describe() #Works only for numerical features"
   ]
  },
  {
   "cell_type": "markdown",
   "id": "33530017",
   "metadata": {},
   "source": [
    "### Univariate Analysis\n",
    "\n",
    "It is the simplest form of analyzing data where we examine each variable individually.\n",
    "\n",
    "- For categorical features, we can use the frequency table or bar plots which will calculate the number of each category in a particular variable.\n",
    "- For numerical features, probability density plots can be used to look at the distribution of the variable."
   ]
  },
  {
   "cell_type": "code",
   "execution_count": 9,
   "id": "214c8b60",
   "metadata": {},
   "outputs": [],
   "source": [
    "# Target Variable - Loan_Status"
   ]
  },
  {
   "cell_type": "code",
   "execution_count": 10,
   "id": "6716174e",
   "metadata": {},
   "outputs": [
    {
     "data": {
      "text/plain": [
       "Y    422\n",
       "N    192\n",
       "Name: Loan_Status, dtype: int64"
      ]
     },
     "execution_count": 10,
     "metadata": {},
     "output_type": "execute_result"
    }
   ],
   "source": [
    "data['Loan_Status'].value_counts()"
   ]
  },
  {
   "cell_type": "code",
   "execution_count": 11,
   "id": "dfd78fae",
   "metadata": {},
   "outputs": [
    {
     "data": {
      "text/plain": [
       "Y    0.687296\n",
       "N    0.312704\n",
       "Name: Loan_Status, dtype: float64"
      ]
     },
     "execution_count": 11,
     "metadata": {},
     "output_type": "execute_result"
    }
   ],
   "source": [
    "data['Loan_Status'].value_counts(normalize=True)"
   ]
  },
  {
   "cell_type": "code",
   "execution_count": 12,
   "id": "6ffb1d81",
   "metadata": {},
   "outputs": [
    {
     "data": {
      "image/png": "[encoded data removed]",
      "text/plain": [
       "<Figure size 1440x720 with 1 Axes>"
      ]
     },
     "metadata": {
      "needs_background": "light"
     },
     "output_type": "display_data"
    }
   ],
   "source": [
    "plt.figure(figsize=(20,10))\n",
    "data['Loan_Status'].value_counts(normalize=True).plot.bar(title='Loan Status')\n",
    "plt.show()"
   ]
  },
  {
   "cell_type": "markdown",
   "id": "5ddb0910",
   "metadata": {},
   "source": [
    "Inference: 68.72% of the loan applications in the dataset were approved."
   ]
  },
  {
   "cell_type": "code",
   "execution_count": 13,
   "id": "2be7c659",
   "metadata": {},
   "outputs": [
    {
     "data": {
      "text/plain": [
       "Loan_ID               object\n",
       "Gender                object\n",
       "Married               object\n",
       "Dependents            object\n",
       "Education             object\n",
       "Self_Employed         object\n",
       "ApplicantIncome        int64\n",
       "CoapplicantIncome    float64\n",
       "LoanAmount           float64\n",
       "Loan_Amount_Term     float64\n",
       "Credit_History       float64\n",
       "Property_Area         object\n",
       "Loan_Status           object\n",
       "dtype: object"
      ]
     },
     "execution_count": 13,
     "metadata": {},
     "output_type": "execute_result"
    }
   ],
   "source": [
    "data.dtypes"
   ]
  },
  {
   "cell_type": "code",
   "execution_count": 14,
   "id": "91e5b4e3",
   "metadata": {},
   "outputs": [],
   "source": [
    "# There are three types of features:\n",
    "\n",
    "# 1) Categorial - features having categories\n",
    "# Examples: Gender, Married, Self_Employed, Credit_History\n",
    "\n",
    "# 2) Ordinal - categorical features having some order involved\n",
    "# Examples: Dependents, Education, Property_Area\n",
    "\n",
    "# 3) Numerical - features having numerical values\n",
    "# Examples: ApplicantIncome, CoapplicantIncome, LoanAmount, Loan_Amount_Term"
   ]
  },
  {
   "cell_type": "code",
   "execution_count": 15,
   "id": "578588b0",
   "metadata": {},
   "outputs": [],
   "source": [
    "# Categorical Varibales"
   ]
  },
  {
   "cell_type": "code",
   "execution_count": 16,
   "id": "22f2ee05",
   "metadata": {},
   "outputs": [
    {
     "data": {
      "image/png": "[encoded data removed]",
      "text/plain": [
       "<Figure size 1440x720 with 4 Axes>"
      ]
     },
     "metadata": {
      "needs_background": "light"
     },
     "output_type": "display_data"
    }
   ],
   "source": [
    "plt.figure(figsize=(20,10))\n",
    "plt.subplot(221)\n",
    "data['Gender'].value_counts(normalize=True).plot.bar(title='Gender')\n",
    "plt.subplot(222)\n",
    "data['Married'].value_counts(normalize=True).plot.bar(title='Married')\n",
    "plt.subplot(223)\n",
    "data['Self_Employed'].value_counts(normalize=True).plot.bar(title='Self_Employed')\n",
    "plt.subplot(224)\n",
    "data['Credit_History'].value_counts(normalize=True).plot.bar(title='Credit_History')\n",
    "plt.show()"
   ]
  },
  {
   "cell_type": "markdown",
   "id": "240b522c",
   "metadata": {},
   "source": [
    "Inference:\n",
    "    \n",
    "- Around 80% applicants in the dataset are male\n",
    "- Around 65% applicants in the dataset are married\n",
    "- Around 85% applicants in the dataset are employed\n",
    "- Around 85% applicants have repaid their past debts"
   ]
  },
  {
   "cell_type": "code",
   "execution_count": 17,
   "id": "cb61ca2a",
   "metadata": {},
   "outputs": [],
   "source": [
    "# Ordinal Variables"
   ]
  },
  {
   "cell_type": "code",
   "execution_count": 18,
   "id": "b57a17c9",
   "metadata": {},
   "outputs": [
    {
     "data": {
      "image/png": "[encoded data removed]",
      "text/plain": [
       "<Figure size 1440x720 with 3 Axes>"
      ]
     },
     "metadata": {
      "needs_background": "light"
     },
     "output_type": "display_data"
    }
   ],
   "source": [
    "plt.figure(figsize=(20,10))\n",
    "plt.subplot(131)\n",
    "data['Dependents'].value_counts(normalize=True).plot.bar(title='Dependents')\n",
    "plt.subplot(132)\n",
    "data['Education'].value_counts(normalize=True).plot.bar(title='Education')\n",
    "plt.subplot(133)\n",
    "data['Property_Area'].value_counts(normalize=True).plot.bar(title='Property_Area')\n",
    "plt.show()"
   ]
  },
  {
   "cell_type": "markdown",
   "id": "4f06a938",
   "metadata": {},
   "source": [
    "Inference:\n",
    "    \n",
    "- Most of the applicants don't have any dependants\n",
    "- Most of the applicants are graduates.\n",
    "- Most of the applicants are from semiurban areas."
   ]
  },
  {
   "cell_type": "code",
   "execution_count": 19,
   "id": "723a490b",
   "metadata": {},
   "outputs": [],
   "source": [
    "# Numerical Variables"
   ]
  },
  {
   "cell_type": "code",
   "execution_count": 20,
   "id": "4c797d05",
   "metadata": {},
   "outputs": [
    {
     "data": {
      "image/png": "[encoded data removed]",
      "text/plain": [
       "<Figure size 1440x720 with 2 Axes>"
      ]
     },
     "metadata": {
      "needs_background": "light"
     },
     "output_type": "display_data"
    }
   ],
   "source": [
    "plt.figure(1, figsize=(20, 10))\n",
    "plt.subplot(121)\n",
    "sns.distplot(data['ApplicantIncome'])\n",
    "plt.subplot(122)\n",
    "data.boxplot(column='ApplicantIncome')\n",
    "plt.show()"
   ]
  },
  {
   "cell_type": "markdown",
   "id": "c1757c42",
   "metadata": {},
   "source": [
    "**Inference - 'ApplicantIncome'**\n",
    "\n",
    "- It can be inferred that most of the data in the distribution of applicant incomes is towards left, i.e. it is not normally distributed.\n",
    "\n",
    "- The boxplot confirms the presence of a lot of outliers/extreme values. This can be attributed to the income disparity in the society. "
   ]
  },
  {
   "cell_type": "code",
   "execution_count": 21,
   "id": "967f7e51",
   "metadata": {},
   "outputs": [
    {
     "data": {
      "image/png": "[encoded data removed]",
      "text/plain": [
       "<Figure size 1440x720 with 1 Axes>"
      ]
     },
     "metadata": {
      "needs_background": "light"
     },
     "output_type": "display_data"
    }
   ],
   "source": [
    "data.boxplot(column='ApplicantIncome', by='Education', figsize=(20, 10))\n",
    "plt.suptitle(\"\")\n",
    "plt.show()"
   ]
  },
  {
   "cell_type": "markdown",
   "id": "825aa0e9",
   "metadata": {},
   "source": [
    "We can see that there is a large number of graduates with very high incomes, which are appearing to be the outliers."
   ]
  },
  {
   "cell_type": "code",
   "execution_count": 22,
   "id": "26e1e0ce",
   "metadata": {},
   "outputs": [
    {
     "data": {
      "image/png": "[encoded data removed]",
      "text/plain": [
       "<Figure size 1440x720 with 2 Axes>"
      ]
     },
     "metadata": {
      "needs_background": "light"
     },
     "output_type": "display_data"
    }
   ],
   "source": [
    "plt.figure(1, figsize=(20, 10))\n",
    "plt.subplot(121)\n",
    "sns.distplot(data['CoapplicantIncome'])\n",
    "plt.subplot(122)\n",
    "data.boxplot(column='CoapplicantIncome')\n",
    "plt.show()"
   ]
  },
  {
   "cell_type": "markdown",
   "id": "f4c6e396",
   "metadata": {},
   "source": [
    "**Inference - 'CoapplicantIncome'**\n",
    "\n",
    "- It can be inferred that most of the data in the distribution of coapplicant incomes is towards left, i.e. it is not normally distributed.\n",
    "\n",
    "- The boxplot confirms the presence of a lot of outliers/extreme values."
   ]
  },
  {
   "cell_type": "code",
   "execution_count": 23,
   "id": "2a2b8b96",
   "metadata": {},
   "outputs": [
    {
     "data": {
      "image/png": "[encoded data removed]",
      "text/plain": [
       "<Figure size 1440x720 with 2 Axes>"
      ]
     },
     "metadata": {
      "needs_background": "light"
     },
     "output_type": "display_data"
    }
   ],
   "source": [
    "# LoanAmount\n",
    "\n",
    "plt.figure(1, figsize=(20, 10))\n",
    "plt.subplot(121)\n",
    "sns.distplot(data['LoanAmount'])\n",
    "plt.subplot(122)\n",
    "data.boxplot(column='LoanAmount')\n",
    "plt.show()"
   ]
  },
  {
   "cell_type": "markdown",
   "id": "25dd2e87",
   "metadata": {},
   "source": [
    "**Inference - 'LoanAmount'**\n",
    "\n",
    "- It can be inferred that most of the data is normally distributed.\n",
    "\n",
    "- The boxplot confirms the presence of a lot of outliers/extreme values."
   ]
  },
  {
   "cell_type": "markdown",
   "id": "a7533806",
   "metadata": {},
   "source": [
    "### Bivariate Analysis"
   ]
  },
  {
   "cell_type": "code",
   "execution_count": 24,
   "id": "bb7f7142",
   "metadata": {},
   "outputs": [
    {
     "data": {
      "image/png": "[encoded data removed]",
      "text/plain": [
       "<Figure size 288x288 with 1 Axes>"
      ]
     },
     "metadata": {
      "needs_background": "light"
     },
     "output_type": "display_data"
    }
   ],
   "source": [
    "# crosstab computes a simple cross tabulation of two (or more) factors \n",
    "Gender = pd.crosstab(data[ 'Gender'], data['Loan_Status']) \n",
    "Gender.div(Gender.sum(1).astype(float), axis=0).plot(kind=\"bar\", \n",
    "                                                     stacked = True, \n",
    "                                                     figsize = (4,4))\n",
    "plt.show()"
   ]
  },
  {
   "cell_type": "markdown",
   "id": "07c9b1ab",
   "metadata": {},
   "source": [
    "### Missing Value and Outlier Treatment"
   ]
  },
  {
   "cell_type": "markdown",
   "id": "fe5c62d2",
   "metadata": {},
   "source": [
    "We need to impute the missing values and treat theoutliers because missing data and outliers can have adverse effect on the model performance. "
   ]
  },
  {
   "cell_type": "markdown",
   "id": "6e966731",
   "metadata": {},
   "source": [
    "**Missing value imputation**"
   ]
  },
  {
   "cell_type": "code",
   "execution_count": 25,
   "id": "a137576c",
   "metadata": {},
   "outputs": [
    {
     "data": {
      "text/plain": [
       "Loan_ID               0\n",
       "Gender               13\n",
       "Married               3\n",
       "Dependents           15\n",
       "Education             0\n",
       "Self_Employed        32\n",
       "ApplicantIncome       0\n",
       "CoapplicantIncome     0\n",
       "LoanAmount           22\n",
       "Loan_Amount_Term     14\n",
       "Credit_History       50\n",
       "Property_Area         0\n",
       "Loan_Status           0\n",
       "dtype: int64"
      ]
     },
     "execution_count": 25,
     "metadata": {},
     "output_type": "execute_result"
    }
   ],
   "source": [
    "data.isnull().sum()"
   ]
  },
  {
   "cell_type": "markdown",
   "id": "a0e822b6",
   "metadata": {},
   "source": [
    "We can consider these methods to fill the missing values: \n",
    "- For numerical variables: imputation using mean or median \n",
    "- For categorical variables: imputation using mode "
   ]
  },
  {
   "cell_type": "code",
   "execution_count": 26,
   "id": "9f1298ae",
   "metadata": {},
   "outputs": [],
   "source": [
    "data['Gender'].fillna(\n",
    "    data[ 'Gender'].mode()[0], \n",
    "    inplace=True\n",
    ") \n",
    "\n",
    "data['Married'].fillna(\n",
    "    data['Married'].mode()[0], \n",
    "    inplace=True\n",
    ") \n",
    "\n",
    "data['Dependents'].fillna(\n",
    "    data[ 'Dependents'].mode()[0], \n",
    "    inplace=True\n",
    ") \n",
    "\n",
    "data['Self_Employed'].fillna(\n",
    "    data['Self_Employed'].mode()[0], \n",
    "    inplace=True\n",
    ") \n",
    "\n",
    "data['Credit_History'].fillna(\n",
    "    data['Credit_History'].mode()[0], \n",
    "    inplace=True\n",
    ") \n",
    "\n",
    "data['Loan_Amount_Term'].fillna(\n",
    "    data[ 'Loan_Amount_Term' ].mode()[0], \n",
    "    inplace=True\n",
    ") "
   ]
  },
  {
   "cell_type": "code",
   "execution_count": 27,
   "id": "f8680abe",
   "metadata": {},
   "outputs": [],
   "source": [
    "data['LoanAmount'].fillna(\n",
    "    data['LoanAmount'].median(), \n",
    "    inplace=True\n",
    ") "
   ]
  },
  {
   "cell_type": "code",
   "execution_count": 28,
   "id": "677bd45f",
   "metadata": {},
   "outputs": [
    {
     "data": {
      "text/plain": [
       "Loan_ID              0\n",
       "Gender               0\n",
       "Married              0\n",
       "Dependents           0\n",
       "Education            0\n",
       "Self_Employed        0\n",
       "ApplicantIncome      0\n",
       "CoapplicantIncome    0\n",
       "LoanAmount           0\n",
       "Loan_Amount_Term     0\n",
       "Credit_History       0\n",
       "Property_Area        0\n",
       "Loan_Status          0\n",
       "dtype: int64"
      ]
     },
     "execution_count": 28,
     "metadata": {},
     "output_type": "execute_result"
    }
   ],
   "source": [
    "data.isnull().sum()"
   ]
  },
  {
   "cell_type": "markdown",
   "id": "2487a959",
   "metadata": {},
   "source": [
    "**Outlier Treatments**"
   ]
  },
  {
   "cell_type": "code",
   "execution_count": 29,
   "id": "5ebc53fb",
   "metadata": {},
   "outputs": [
    {
     "data": {
      "image/png": "[encoded data removed]",
      "text/plain": [
       "<Figure size 432x288 with 1 Axes>"
      ]
     },
     "metadata": {
      "needs_background": "light"
     },
     "output_type": "display_data"
    }
   ],
   "source": [
    "data['LoanAmount'].hist(bins=20)\n",
    "plt.show()"
   ]
  },
  {
   "cell_type": "markdown",
   "id": "39cf95bf",
   "metadata": {},
   "source": [
    "Due to the outliers, bulk of the data in the loan amount is at the left and the right tail is longer. This is called right skewness. \n",
    "\n",
    "One way to remove the skewness is by doing the log transformation. \n",
    "\n",
    "As we take the log transformation, it does not affect the smaller values much, but reduces the larger values. So, we get a distribution similar to normal distribution"
   ]
  },
  {
   "cell_type": "code",
   "execution_count": 30,
   "id": "ead21ab3",
   "metadata": {},
   "outputs": [
    {
     "data": {
      "image/png": "[encoded data removed]",
      "text/plain": [
       "<Figure size 432x288 with 1 Axes>"
      ]
     },
     "metadata": {
      "needs_background": "light"
     },
     "output_type": "display_data"
    }
   ],
   "source": [
    "data['LoanAmount_log'] = np.log(data['LoanAmount'])\n",
    "data['LoanAmount_log'].hist(bins=20)\n",
    "plt.show()"
   ]
  },
  {
   "cell_type": "markdown",
   "id": "8a8e668e",
   "metadata": {},
   "source": [
    "### Model Building : Part I"
   ]
  },
  {
   "cell_type": "markdown",
   "id": "1b17e159",
   "metadata": {},
   "source": [
    "Lets drop the Loan_ID variable as it do not have any effect on the loan status."
   ]
  },
  {
   "cell_type": "code",
   "execution_count": 31,
   "id": "027a71da",
   "metadata": {},
   "outputs": [],
   "source": [
    "data = data.drop('Loan_ID', axis=1)"
   ]
  },
  {
   "cell_type": "markdown",
   "id": "afb35b83",
   "metadata": {},
   "source": [
    "Sklearn requires the target variable in a separate dataset. So, we will drop our target variable\n",
    "from the data dataset and save it in another dataset."
   ]
  },
  {
   "cell_type": "code",
   "execution_count": 32,
   "id": "3c7e682b",
   "metadata": {},
   "outputs": [],
   "source": [
    "X = data.drop('Loan_Status', 1) \n",
    "y = data.Loan_Status"
   ]
  },
  {
   "cell_type": "markdown",
   "id": "f0b54088",
   "metadata": {},
   "source": [
    "Now we will make dummy variables for the categorical variables."
   ]
  },
  {
   "cell_type": "code",
   "execution_count": 33,
   "id": "e9a7b6fd",
   "metadata": {},
   "outputs": [],
   "source": [
    "X = pd.get_dummies(X) "
   ]
  },
  {
   "cell_type": "code",
   "execution_count": 34,
   "id": "f7e2ce55",
   "metadata": {},
   "outputs": [
    {
     "data": {
      "text/html": [
       "<div>\n",
       "<style scoped>\n",
       "    .dataframe tbody tr th:only-of-type {\n",
       "        vertical-align: middle;\n",
       "    }\n",
       "\n",
       "    .dataframe tbody tr th {\n",
       "        vertical-align: top;\n",
       "    }\n",
       "\n",
       "    .dataframe thead th {\n",
       "        text-align: right;\n",
       "    }\n",
       "</style>\n",
       "<table border=\"1\" class=\"dataframe\">\n",
       "  <thead>\n",
       "    <tr style=\"text-align: right;\">\n",
       "      <th></th>\n",
       "      <th>ApplicantIncome</th>\n",
       "      <th>CoapplicantIncome</th>\n",
       "      <th>LoanAmount</th>\n",
       "      <th>Loan_Amount_Term</th>\n",
       "      <th>Credit_History</th>\n",
       "      <th>LoanAmount_log</th>\n",
       "      <th>Gender_Female</th>\n",
       "      <th>Gender_Male</th>\n",
       "      <th>Married_No</th>\n",
       "      <th>Married_Yes</th>\n",
       "      <th>...</th>\n",
       "      <th>Dependents_1</th>\n",
       "      <th>Dependents_2</th>\n",
       "      <th>Dependents_3+</th>\n",
       "      <th>Education_Graduate</th>\n",
       "      <th>Education_Not Graduate</th>\n",
       "      <th>Self_Employed_No</th>\n",
       "      <th>Self_Employed_Yes</th>\n",
       "      <th>Property_Area_Rural</th>\n",
       "      <th>Property_Area_Semiurban</th>\n",
       "      <th>Property_Area_Urban</th>\n",
       "    </tr>\n",
       "  </thead>\n",
       "  <tbody>\n",
       "    <tr>\n",
       "      <th>0</th>\n",
       "      <td>5849</td>\n",
       "      <td>0.0</td>\n",
       "      <td>128.0</td>\n",
       "      <td>360.0</td>\n",
       "      <td>1.0</td>\n",
       "      <td>4.852030</td>\n",
       "      <td>0</td>\n",
       "      <td>1</td>\n",
       "      <td>1</td>\n",
       "      <td>0</td>\n",
       "      <td>...</td>\n",
       "      <td>0</td>\n",
       "      <td>0</td>\n",
       "      <td>0</td>\n",
       "      <td>1</td>\n",
       "      <td>0</td>\n",
       "      <td>1</td>\n",
       "      <td>0</td>\n",
       "      <td>0</td>\n",
       "      <td>0</td>\n",
       "      <td>1</td>\n",
       "    </tr>\n",
       "    <tr>\n",
       "      <th>1</th>\n",
       "      <td>4583</td>\n",
       "      <td>1508.0</td>\n",
       "      <td>128.0</td>\n",
       "      <td>360.0</td>\n",
       "      <td>1.0</td>\n",
       "      <td>4.852030</td>\n",
       "      <td>0</td>\n",
       "      <td>1</td>\n",
       "      <td>0</td>\n",
       "      <td>1</td>\n",
       "      <td>...</td>\n",
       "      <td>1</td>\n",
       "      <td>0</td>\n",
       "      <td>0</td>\n",
       "      <td>1</td>\n",
       "      <td>0</td>\n",
       "      <td>1</td>\n",
       "      <td>0</td>\n",
       "      <td>1</td>\n",
       "      <td>0</td>\n",
       "      <td>0</td>\n",
       "    </tr>\n",
       "    <tr>\n",
       "      <th>2</th>\n",
       "      <td>3000</td>\n",
       "      <td>0.0</td>\n",
       "      <td>66.0</td>\n",
       "      <td>360.0</td>\n",
       "      <td>1.0</td>\n",
       "      <td>4.189655</td>\n",
       "      <td>0</td>\n",
       "      <td>1</td>\n",
       "      <td>0</td>\n",
       "      <td>1</td>\n",
       "      <td>...</td>\n",
       "      <td>0</td>\n",
       "      <td>0</td>\n",
       "      <td>0</td>\n",
       "      <td>1</td>\n",
       "      <td>0</td>\n",
       "      <td>0</td>\n",
       "      <td>1</td>\n",
       "      <td>0</td>\n",
       "      <td>0</td>\n",
       "      <td>1</td>\n",
       "    </tr>\n",
       "    <tr>\n",
       "      <th>3</th>\n",
       "      <td>2583</td>\n",
       "      <td>2358.0</td>\n",
       "      <td>120.0</td>\n",
       "      <td>360.0</td>\n",
       "      <td>1.0</td>\n",
       "      <td>4.787492</td>\n",
       "      <td>0</td>\n",
       "      <td>1</td>\n",
       "      <td>0</td>\n",
       "      <td>1</td>\n",
       "      <td>...</td>\n",
       "      <td>0</td>\n",
       "      <td>0</td>\n",
       "      <td>0</td>\n",
       "      <td>0</td>\n",
       "      <td>1</td>\n",
       "      <td>1</td>\n",
       "      <td>0</td>\n",
       "      <td>0</td>\n",
       "      <td>0</td>\n",
       "      <td>1</td>\n",
       "    </tr>\n",
       "    <tr>\n",
       "      <th>4</th>\n",
       "      <td>6000</td>\n",
       "      <td>0.0</td>\n",
       "      <td>141.0</td>\n",
       "      <td>360.0</td>\n",
       "      <td>1.0</td>\n",
       "      <td>4.948760</td>\n",
       "      <td>0</td>\n",
       "      <td>1</td>\n",
       "      <td>1</td>\n",
       "      <td>0</td>\n",
       "      <td>...</td>\n",
       "      <td>0</td>\n",
       "      <td>0</td>\n",
       "      <td>0</td>\n",
       "      <td>1</td>\n",
       "      <td>0</td>\n",
       "      <td>1</td>\n",
       "      <td>0</td>\n",
       "      <td>0</td>\n",
       "      <td>0</td>\n",
       "      <td>1</td>\n",
       "    </tr>\n",
       "  </tbody>\n",
       "</table>\n",
       "<p>5 rows × 21 columns</p>\n",
       "</div>"
      ],
      "text/plain": [
       "   ApplicantIncome  CoapplicantIncome  LoanAmount  Loan_Amount_Term  \\\n",
       "0             5849                0.0       128.0             360.0   \n",
       "1             4583             1508.0       128.0             360.0   \n",
       "2             3000                0.0        66.0             360.0   \n",
       "3             2583             2358.0       120.0             360.0   \n",
       "4             6000                0.0       141.0             360.0   \n",
       "\n",
       "   Credit_History  LoanAmount_log  Gender_Female  Gender_Male  Married_No  \\\n",
       "0             1.0        4.852030              0            1           1   \n",
       "1             1.0        4.852030              0            1           0   \n",
       "2             1.0        4.189655              0            1           0   \n",
       "3             1.0        4.787492              0            1           0   \n",
       "4             1.0        4.948760              0            1           1   \n",
       "\n",
       "   Married_Yes  ...  Dependents_1  Dependents_2  Dependents_3+  \\\n",
       "0            0  ...             0             0              0   \n",
       "1            1  ...             1             0              0   \n",
       "2            1  ...             0             0              0   \n",
       "3            1  ...             0             0              0   \n",
       "4            0  ...             0             0              0   \n",
       "\n",
       "   Education_Graduate  Education_Not Graduate  Self_Employed_No  \\\n",
       "0                   1                       0                 1   \n",
       "1                   1                       0                 1   \n",
       "2                   1                       0                 0   \n",
       "3                   0                       1                 1   \n",
       "4                   1                       0                 1   \n",
       "\n",
       "   Self_Employed_Yes  Property_Area_Rural  Property_Area_Semiurban  \\\n",
       "0                  0                    0                        0   \n",
       "1                  0                    1                        0   \n",
       "2                  1                    0                        0   \n",
       "3                  0                    0                        0   \n",
       "4                  0                    0                        0   \n",
       "\n",
       "   Property_Area_Urban  \n",
       "0                    1  \n",
       "1                    0  \n",
       "2                    1  \n",
       "3                    1  \n",
       "4                    1  \n",
       "\n",
       "[5 rows x 21 columns]"
      ]
     },
     "execution_count": 34,
     "metadata": {},
     "output_type": "execute_result"
    }
   ],
   "source": [
    "X.head()"
   ]
  },
  {
   "cell_type": "code",
   "execution_count": 35,
   "id": "64e2efdf",
   "metadata": {},
   "outputs": [],
   "source": [
    "from sklearn.model_selection import train_test_split\n",
    "X_train, X_test, Y_train, Y_test = train_test_split(X, y, test_size=0.3, random_state = 0)"
   ]
  },
  {
   "cell_type": "code",
   "execution_count": 36,
   "id": "4026281f",
   "metadata": {},
   "outputs": [
    {
     "data": {
      "text/plain": [
       "((429, 21), (429,))"
      ]
     },
     "execution_count": 36,
     "metadata": {},
     "output_type": "execute_result"
    }
   ],
   "source": [
    "X_train.shape, Y_train.shape"
   ]
  },
  {
   "cell_type": "code",
   "execution_count": 37,
   "id": "3e192905",
   "metadata": {},
   "outputs": [
    {
     "data": {
      "text/plain": [
       "((185, 21), (185,))"
      ]
     },
     "execution_count": 37,
     "metadata": {},
     "output_type": "execute_result"
    }
   ],
   "source": [
    "X_test.shape, Y_test.shape"
   ]
  },
  {
   "cell_type": "code",
   "execution_count": 38,
   "id": "6f6fa40b",
   "metadata": {},
   "outputs": [],
   "source": [
    "classifiers = []\n",
    "\n",
    "lr_classifier = LogisticRegression()\n",
    "classifiers.append(lr_classifier)\n",
    "lda_classifier = LinearDiscriminantAnalysis()\n",
    "classifiers.append(lda_classifier)\n",
    "svc_classifier = SVC()\n",
    "classifiers.append(svc_classifier)\n",
    "kn_classifier = KNeighborsClassifier()\n",
    "classifiers.append(kn_classifier)\n",
    "gnb_classifier = GaussianNB()\n",
    "classifiers.append(gnb_classifier)\n",
    "dt_classifier = DecisionTreeClassifier(random_state = 43)\n",
    "classifiers.append(dt_classifier)\n",
    "rf_classifier = RandomForestClassifier(random_state = 43)\n",
    "classifiers.append(rf_classifier)"
   ]
  },
  {
   "cell_type": "code",
   "execution_count": 39,
   "id": "df728ca5",
   "metadata": {},
   "outputs": [
    {
     "name": "stdout",
     "output_type": "stream",
     "text": [
      "LogisticRegression()\n"
     ]
    },
    {
     "ename": "NameError",
     "evalue": "name 'metrics' is not defined",
     "output_type": "error",
     "traceback": [
      "\u001b[1;31m---------------------------------------------------------------------------\u001b[0m",
      "\u001b[1;31mNameError\u001b[0m                                 Traceback (most recent call last)",
      "\u001b[1;32m<ipython-input-39-b057cd5b1522>\u001b[0m in \u001b[0;36m<module>\u001b[1;34m\u001b[0m\n\u001b[0;32m      3\u001b[0m     \u001b[0mclassifier\u001b[0m\u001b[1;33m.\u001b[0m\u001b[0mfit\u001b[0m\u001b[1;33m(\u001b[0m\u001b[0mX_train\u001b[0m\u001b[1;33m,\u001b[0m \u001b[0mY_train\u001b[0m\u001b[1;33m)\u001b[0m\u001b[1;33m\u001b[0m\u001b[1;33m\u001b[0m\u001b[0m\n\u001b[0;32m      4\u001b[0m     \u001b[0my_pred\u001b[0m \u001b[1;33m=\u001b[0m \u001b[0mclassifier\u001b[0m\u001b[1;33m.\u001b[0m\u001b[0mpredict\u001b[0m\u001b[1;33m(\u001b[0m\u001b[0mX_test\u001b[0m\u001b[1;33m)\u001b[0m\u001b[1;33m\u001b[0m\u001b[1;33m\u001b[0m\u001b[0m\n\u001b[1;32m----> 5\u001b[1;33m     \u001b[0mprint\u001b[0m\u001b[1;33m(\u001b[0m\u001b[0mmetrics\u001b[0m\u001b[1;33m.\u001b[0m\u001b[0mclassification_report\u001b[0m\u001b[1;33m(\u001b[0m\u001b[0mY_test\u001b[0m\u001b[1;33m,\u001b[0m \u001b[0my_pred\u001b[0m\u001b[1;33m)\u001b[0m\u001b[1;33m)\u001b[0m\u001b[1;33m\u001b[0m\u001b[1;33m\u001b[0m\u001b[0m\n\u001b[0m\u001b[0;32m      6\u001b[0m     \u001b[0mprint\u001b[0m\u001b[1;33m(\u001b[0m\u001b[1;34m\"----\"\u001b[0m\u001b[1;33m)\u001b[0m\u001b[1;33m\u001b[0m\u001b[1;33m\u001b[0m\u001b[0m\n",
      "\u001b[1;31mNameError\u001b[0m: name 'metrics' is not defined"
     ]
    }
   ],
   "source": [
    "for classifier in classifiers:\n",
    "    print(classifier)\n",
    "    classifier.fit(X_train, Y_train)\n",
    "    y_pred = classifier.predict(X_test)\n",
    "    print(classification_report(Y_test, y_pred))\n",
    "    print(\"----\")"
   ]
  },
  {
   "cell_type": "markdown",
   "id": "9371f6fe",
   "metadata": {},
   "source": [
    "### Feature Engineering"
   ]
  },
  {
   "cell_type": "markdown",
   "id": "1823d010",
   "metadata": {},
   "source": [
    "Based on the domain knowledge, we can come up with new features that might affect the target\n",
    "variable. We will create the following three new features:\n",
    "\n",
    "- Total Income - As discussed during bivariate analysis we will combine the Applicant Income and Coapplicant Income. If the total income is high, chances of loan approval might also be high.\n",
    "\n",
    "- EMI - EMI is the monthly amount to be paid by the applicant to repay the loan. Idea behind making this variable is that people who have high EMI’s might find it difficult to pay back the loan. We can calculate the EMI by taking the ratio of loan amount with resepect to loan amount term.\n",
    "\n",
    "- Balance Income -  This is the income left after the EMI has been paid. Idea behind creating this variable is that if this value is high, the chances are high that a person will repay the loan and hence increasing the chances of loan approval.\n"
   ]
  },
  {
   "cell_type": "markdown",
   "id": "a96af2f1",
   "metadata": {},
   "source": [
    "**Total Income**"
   ]
  },
  {
   "cell_type": "code",
   "execution_count": null,
   "id": "ae7b8489",
   "metadata": {},
   "outputs": [],
   "source": [
    "data['Total_Income'] = data['ApplicantIncome'] + data['CoapplicantIncome']"
   ]
  },
  {
   "cell_type": "code",
   "execution_count": null,
   "id": "4b89ee73",
   "metadata": {},
   "outputs": [],
   "source": [
    "sns.distplot(data['Total_Income']);"
   ]
  },
  {
   "cell_type": "markdown",
   "id": "a26f6dce",
   "metadata": {},
   "source": [
    "We can see it is shifted towards left, i.e., the distribution is right skewed. So, let’s take the log transformation to make the distribution normal."
   ]
  },
  {
   "cell_type": "code",
   "execution_count": null,
   "id": "a5c7a350",
   "metadata": {},
   "outputs": [],
   "source": [
    "data['Total_Income_log'] = np.log(data['Total_Income'])\n",
    "sns.distplot(data['Total_Income_log'])\n",
    "plt.show()"
   ]
  },
  {
   "cell_type": "markdown",
   "id": "8cf07a37",
   "metadata": {},
   "source": [
    "Now the distribution looks much closer to normal and effect of extreme values has been significantly subsided."
   ]
  },
  {
   "cell_type": "markdown",
   "id": "b526a77c",
   "metadata": {},
   "source": [
    "**EMI**"
   ]
  },
  {
   "cell_type": "code",
   "execution_count": null,
   "id": "24927ffe",
   "metadata": {},
   "outputs": [],
   "source": [
    "data['EMI'] = data['LoanAmount'] / data['Loan_Amount_Term']\n",
    "sns.distplot(data['EMI'])"
   ]
  },
  {
   "cell_type": "code",
   "execution_count": null,
   "id": "97447712",
   "metadata": {},
   "outputs": [],
   "source": [
    "data['EMI_log'] = np.log(data['EMI'])\n",
    "sns.distplot(data['EMI_log'])"
   ]
  },
  {
   "cell_type": "markdown",
   "id": "4b2c389a",
   "metadata": {},
   "source": [
    "**Balance Income**"
   ]
  },
  {
   "cell_type": "code",
   "execution_count": null,
   "id": "ad2c79a2",
   "metadata": {},
   "outputs": [],
   "source": [
    "data['Balance Income'] = data['Total_Income'] - (data['EMI'] * 1000) #Multiply with 1000 to make the units equal\n",
    "sns.distplot(data['Balance Income'])"
   ]
  },
  {
   "cell_type": "code",
   "execution_count": null,
   "id": "060b2ae4",
   "metadata": {},
   "outputs": [],
   "source": [
    "data['Balance Income_log'] = np.log(data['Balance Income'])\n",
    "sns.distplot(data['Balance Income_log']);"
   ]
  },
  {
   "cell_type": "markdown",
   "id": "53f1fd67",
   "metadata": {},
   "source": [
    "- We would now drop the variables which we used to create these new features. \n",
    "\n",
    "- Reason for doing this is, the correlation between those old features and these new features will be very high and logistic regression assumes that the variables are not highly correlated. \n",
    "\n",
    "- We also wants to remove the noise from the dataset, so removing correlated features will help in reducing the noise too."
   ]
  },
  {
   "cell_type": "code",
   "execution_count": null,
   "id": "524c56ea",
   "metadata": {},
   "outputs": [],
   "source": [
    "data = data.drop(['ApplicantIncome', 'CoapplicantIncome', 'LoanAmount', 'Loan_Amount_Term'], axis=1) "
   ]
  },
  {
   "cell_type": "code",
   "execution_count": null,
   "id": "894034de",
   "metadata": {},
   "outputs": [],
   "source": [
    "data.isnull().sum()"
   ]
  },
  {
   "cell_type": "code",
   "execution_count": null,
   "id": "1cbffde5",
   "metadata": {},
   "outputs": [],
   "source": [
    "data['Balance Income_log'].fillna(\n",
    "    data['Balance Income_log'].median(), \n",
    "    inplace=True\n",
    ") "
   ]
  },
  {
   "cell_type": "code",
   "execution_count": null,
   "id": "9c42ef62",
   "metadata": {},
   "outputs": [],
   "source": [
    "data.isnull().sum()"
   ]
  },
  {
   "cell_type": "markdown",
   "id": "f3674444",
   "metadata": {},
   "source": [
    "### Model Building Part II"
   ]
  },
  {
   "cell_type": "code",
   "execution_count": null,
   "id": "e1b25cd8",
   "metadata": {},
   "outputs": [],
   "source": [
    "X = data.drop('Loan_Status', 1) \n",
    "y = data.Loan_Status"
   ]
  },
  {
   "cell_type": "markdown",
   "id": "1799bafa",
   "metadata": {},
   "source": [
    "Now we will make dummy variables for the categorical variables."
   ]
  },
  {
   "cell_type": "code",
   "execution_count": null,
   "id": "708c3873",
   "metadata": {},
   "outputs": [],
   "source": [
    "X = pd.get_dummies(X) "
   ]
  },
  {
   "cell_type": "code",
   "execution_count": null,
   "id": "b6415e5c",
   "metadata": {},
   "outputs": [],
   "source": [
    "from sklearn.model_selection import train_test_split\n",
    "X_train, X_test, Y_train, Y_test = train_test_split(X, y, test_size=0.3, random_state = 0)"
   ]
  },
  {
   "cell_type": "code",
   "execution_count": null,
   "id": "d6da8dbf",
   "metadata": {},
   "outputs": [],
   "source": [
    "X_train.shape, Y_train.shape"
   ]
  },
  {
   "cell_type": "code",
   "execution_count": null,
   "id": "dd623238",
   "metadata": {},
   "outputs": [],
   "source": [
    "X_test.shape, Y_test.shape"
   ]
  },
  {
   "cell_type": "code",
   "execution_count": null,
   "id": "dd543ee0",
   "metadata": {},
   "outputs": [],
   "source": [
    "classifiers = []\n",
    "\n",
    "lr_classifier = LogisticRegression()\n",
    "classifiers.append(lr_classifier)\n",
    "lda_classifier = LinearDiscriminantAnalysis()\n",
    "classifiers.append(lda_classifier)\n",
    "svc_classifier = SVC()\n",
    "classifiers.append(svc_classifier)\n",
    "kn_classifier = KNeighborsClassifier()\n",
    "classifiers.append(kn_classifier)\n",
    "gnb_classifier = GaussianNB()\n",
    "classifiers.append(gnb_classifier)\n",
    "dt_classifier = DecisionTreeClassifier()\n",
    "classifiers.append(dt_classifier)\n",
    "rf_classifier = RandomForestClassifier()\n",
    "classifiers.append(rf_classifier)"
   ]
  },
  {
   "cell_type": "code",
   "execution_count": null,
   "id": "680528c5",
   "metadata": {},
   "outputs": [],
   "source": [
    "for classifier in classifiers:\n",
    "    print(type(classifier))\n",
    "    classifier.fit(X_train, Y_train)\n",
    "    y_pred = classifier.predict(X_test)\n",
    "    print(\"Accuracy:\",accuracy_score(Y_test, y_pred))\n",
    "    print(\"Precision:\",precision_score(Y_test, y_pred, pos_label='Y'))\n",
    "    print(\"Recall:\",metrics.recall_score(Y_test, y_pred, pos_label='Y'))\n",
    "    print(\"----\")"
   ]
  },
  {
   "cell_type": "code",
   "execution_count": null,
   "id": "4abdacef",
   "metadata": {},
   "outputs": [],
   "source": [
    "dt_classifier.fit(X_train, Y_train)"
   ]
  },
  {
   "cell_type": "code",
   "execution_count": null,
   "id": "8188f0e1",
   "metadata": {},
   "outputs": [],
   "source": [
    "dt_classifier.feature_importances_"
   ]
  },
  {
   "cell_type": "code",
   "execution_count": null,
   "id": "af7fd14d",
   "metadata": {},
   "outputs": [],
   "source": [
    "fig = plt.figure(figsize=(25,20))\n",
    "_ = plot_tree(dt_classifier, \n",
    "              filled=True)\n",
    "plt.show()"
   ]
  },
  {
   "cell_type": "code",
   "execution_count": null,
   "id": "41178d99",
   "metadata": {},
   "outputs": [],
   "source": [
    "fig.savefig(\"decision_tree.png\")"
   ]
  },
  {
   "cell_type": "markdown",
   "id": "5a581ee3",
   "metadata": {},
   "source": [
    "## Random Forest"
   ]
  },
  {
   "cell_type": "code",
   "execution_count": null,
   "id": "15650507",
   "metadata": {},
   "outputs": [],
   "source": [
    "rf_classifier.fit(X_train, Y_train)\n",
    "y_pred = rf_classifier.predict(X_test)\n",
    "print(\"Accuracy:\",metrics.accuracy_score(Y_test, y_pred))\n",
    "print(\"Precision:\",metrics.precision_score(Y_test, y_pred,  pos_label='Y'))\n",
    "print(\"Recall:\",metrics.recall_score(Y_test, y_pred,  pos_label='Y'))\n",
    "fig = plt.figure(figsize=(25,10))\n",
    "plot_tree(rf_classifier.estimators_[0], \n",
    "                  max_depth = 5,\n",
    "                  rounded = True, \n",
    "                  precision = 2,\n",
    "                  filled = True,\n",
    "                  )\n",
    "plt.show()"
   ]
  },
  {
   "cell_type": "code",
   "execution_count": null,
   "id": "50f295b3-ea4a-4e70-8b77-960d3a2b7ac7",
   "metadata": {},
   "outputs": [],
   "source": [
    "X_test"
   ]
  },
  {
   "cell_type": "code",
   "execution_count": null,
   "id": "fbe8159d",
   "metadata": {},
   "outputs": [],
   "source": [
    "fig = plt.figure(figsize=(25,10))\n",
    "plot_tree(rf_classifier.estimators_[1], \n",
    "                  max_depth = 5,\n",
    "                  rounded = True, \n",
    "                  precision = 2,\n",
    "                  filled = True,\n",
    "                  )\n",
    "plt.show()"
   ]
  },
  {
   "cell_type": "code",
   "execution_count": null,
   "id": "fe36fd64-f374-41d7-a484-33ec2e85def5",
   "metadata": {},
   "outputs": [],
   "source": [
    "data.head()"
   ]
  },
  {
   "cell_type": "code",
   "execution_count": null,
   "id": "5631e180-f83d-4464-b766-f7d69f5562d4",
   "metadata": {},
   "outputs": [],
   "source": [
    "Gender = widgets.Dropdown(\n",
    "    options = [('Male'), \n",
    "               ('Female')\n",
    "              ],\n",
    "    disabled = False, \n",
    "    description=\"Gender\"\n",
    ")\n",
    "\n",
    "Married = widgets.Dropdown(\n",
    "    options = [('Yes'), \n",
    "               ('No')\n",
    "              ],\n",
    "    disabled = False,\n",
    "    description=\"Married\"\n",
    ")\n",
    "\n",
    "Dependents = widgets.Dropdown(\n",
    "    options = [('0'), \n",
    "               ('1'),\n",
    "               ('2'),\n",
    "               ('3+')\n",
    "              ],\n",
    "    disabled = False,\n",
    "    description=\"Dependents\"\n",
    ")\n",
    "\n",
    "Education = widgets.Dropdown(\n",
    "    options = [('Graduate'), \n",
    "               ('Not Graduate')\n",
    "              ],\n",
    "    disabled = False,\n",
    "    description=\"Education\"\n",
    ")\n",
    "\n",
    "Self_Employed = widgets.Dropdown(\n",
    "    options = [('Yes'), \n",
    "               ('No')\n",
    "              ],\n",
    "    disabled = False,\n",
    "    description=\"Self_Employed\"\n",
    ")\n",
    "\n",
    "ApplicantIncome = widgets.Text(description=\"ApplicantIncome\")\n",
    "CoapplicantIncome = widgets.Text(description=\"CoapplicantIncome\")\n",
    "LoanAmount = widgets.Text(description=\"LoanAmount\")\n",
    "Loan_Amount_Term = widgets.Text(description=\"Loan_Amount_Term\")\n",
    "\n",
    "Credit_History = widgets.Dropdown(\n",
    "    options = [('0'), \n",
    "               ('1')\n",
    "              ],\n",
    "    disabled = False,\n",
    "    description=\"Credit_History\"\n",
    ")\n",
    "\n",
    "Property_Area = widgets.Dropdown(\n",
    "    options = [('Semiurban'), \n",
    "               ('Urban'),\n",
    "               ('Rural')\n",
    "              ],\n",
    "    disabled = False,\n",
    "    description=\"Property_Area\"\n",
    ")"
   ]
  },
  {
   "cell_type": "code",
   "execution_count": null,
   "id": "ace605ea-53ba-417b-95c3-75116d2a7e4e",
   "metadata": {},
   "outputs": [],
   "source": [
    "display(Gender)\n",
    "display(Married)\n",
    "display(Dependents)\n",
    "display(Education)\n",
    "display(Self_Employed )\n",
    "display(ApplicantIncome )\n",
    "display(CoapplicantIncome)\n",
    "display(LoanAmount)\n",
    "display(Loan_Amount_Term )\n",
    "display(Credit_History)\n",
    "display(Property_Area)"
   ]
  },
  {
   "cell_type": "code",
   "execution_count": null,
   "id": "3bff9065-a13a-41d7-b4fb-31996e4c57d9",
   "metadata": {},
   "outputs": [],
   "source": [
    "algorithm = widgets.Dropdown(\n",
    "    options = [('Logistic Regression', 'LR'), \n",
    "               ('Linear Discriminant Analysis ', 'LDA'), \n",
    "               ('Support Vector Machines', 'SVM'),\n",
    "               ('K-Nearest Neighbors', 'KN'),\n",
    "               ('Naive Bayes', 'NB'),\n",
    "               ('Decision Trees', 'DT'),\n",
    "               ('Random Forest', 'RF'),\n",
    "              ],\n",
    "    disabled = False,\n",
    ")\n",
    "\n",
    "print('Select Algorithm')\n",
    "display(algorithm)"
   ]
  },
  {
   "cell_type": "code",
   "execution_count": null,
   "id": "58cab7e9-97bd-4458-a482-c6a09872ad46",
   "metadata": {},
   "outputs": [],
   "source": [
    "prediction = widgets.Output()\n",
    "\n",
    "button_predict = widgets.Button(description=\"Predict\")\n",
    "\n",
    "def on_button_predict_clicked(b):\n",
    "    \n",
    "    input_data = {}\n",
    "    input_data['Gender'] = Gender.value\n",
    "    input_data['Married'] = Married.value\n",
    "    input_data['Dependents'] = Dependents.value\n",
    "    input_data['Education'] = Education.value\n",
    "    input_data['Self_Employed'] = Self_Employed.value\n",
    "    input_data['ApplicantIncome'] = float(ApplicantIncome.value)\n",
    "    input_data['CoapplicantIncome'] = float(CoapplicantIncome.value)\n",
    "    input_data['LoanAmount'] = float(LoanAmount.value)\n",
    "    input_data['Loan_Amount_Term'] = float(Loan_Amount_Term.value)\n",
    "    input_data['Credit_History'] = float(Credit_History.value)\n",
    "    input_data['Property_Area'] = Property_Area.value\n",
    "    \n",
    "    user_input = pd.DataFrame(input_data, columns = ['Gender','Married','Dependents','Education','Self_Employed','ApplicantIncome','CoapplicantIncome','LoanAmount','Loan_Amount_Term','Credit_History','Property_Area'], index=[0])\n",
    "    \n",
    "    user_input['Total_Income'] = user_input['ApplicantIncome'] + user_input['CoapplicantIncome']\n",
    "    user_input['Total_Income_log'] = np.log(user_input['Total_Income'])\n",
    "    user_input['EMI'] = user_input['LoanAmount'] / user_input['Loan_Amount_Term']\n",
    "    user_input['EMI_log'] = np.log(user_input['EMI'])\n",
    "    user_input['Balance Income'] = user_input['Total_Income'] - (user_input['EMI'] * 1000)\n",
    "    user_input['Balance Income_log'] = np.log(user_input['Balance Income'])\n",
    "    user_input = user_input.drop(['ApplicantIncome', 'CoapplicantIncome', 'LoanAmount', 'Loan_Amount_Term'], axis=1) \n",
    "    user_input = pd.get_dummies(user_input) \n",
    "    \n",
    "    missing_cols = set(X_train.columns ) - set(user_input.columns)\n",
    "    for c in missing_cols:\n",
    "        user_input[c] = 0\n",
    "    # Ensure the order of column in the test set is in the same order than in train set\n",
    "    user_input = user_input[X_train.columns]\n",
    "    \n",
    "    selected_algorithm = algorithm.value\n",
    "    \n",
    "    if selected_algorithm == 'LR':\n",
    "        classifier = lr_classifier\n",
    "    elif selected_algorithm == 'LDA':\n",
    "        classifier = lda_classifier\n",
    "    elif selected_algorithm == 'SVM':\n",
    "        classifier = svc_classifier        \n",
    "    elif selected_algorithm == 'KN':\n",
    "        classifier = kn_classifier\n",
    "    elif selected_algorithm == 'NB':\n",
    "        classifier = gnb_classifier\n",
    "    elif selected_algorithm == 'DT':\n",
    "        classifier = dt_classifier\n",
    "    elif selected_algorithm == 'RF':\n",
    "        classifier = rf_classifier\n",
    "        \n",
    "    with prediction:\n",
    "        clear_output(True)\n",
    "        #print(user_input)\n",
    "        print(f'Selected Algorithm = {selected_algorithm}')\n",
    "        print(classifier.predict(user_input)[0])\n",
    "        \n",
    "button_predict.on_click(on_button_predict_clicked)"
   ]
  },
  {
   "cell_type": "code",
   "execution_count": null,
   "id": "59a24d3d-45ef-45d6-beb7-e2eb69e139f9",
   "metadata": {},
   "outputs": [],
   "source": [
    "display(button_predict)\n",
    "display(prediction)"
   ]
  },
  {
   "cell_type": "code",
   "execution_count": null,
   "id": "ce08a3d2-94a0-4f07-9b28-ce90d3056e5c",
   "metadata": {},
   "outputs": [],
   "source": []
  },
  {
   "cell_type": "code",
   "execution_count": null,
   "id": "1f1de589",
   "metadata": {},
   "outputs": [],
   "source": []
  }
 ],
 "metadata": {
  "kernelspec": {
   "display_name": "Python 3",
   "language": "python",
   "name": "python3"
  },
  "language_info": {
   "codemirror_mode": {
    "name": "ipython",
    "version": 3
   },
   "file_extension": ".py",
   "mimetype": "text/x-python",
   "name": "python",
   "nbconvert_exporter": "python",
   "pygments_lexer": "ipython3",
   "version": "3.8.5"
  }
 },
 "nbformat": 4,
 "nbformat_minor": 5
}
