{
 "cells": [
  {
   "cell_type": "markdown",
   "id": "fb662120",
   "metadata": {},
   "source": [
    "# Application 4: Loan Eligibility Prediction"
   ]
  },
  {
   "cell_type": "markdown",
   "id": "f517ca87",
   "metadata": {},
   "source": [
    "Predict Loan Eligibility for Dream Housing Finance company\n",
    "Dream Housing Finance company deals in all kinds of home loans. They have presence across all urban, semi urban and rural areas. Customer first applies for home loan and after that company validates the customer eligibility for loan.\n",
    "\n",
    "Company wants to automate the loan eligibility process (real time) based on customer detail provided while filling online application form. These details are Gender, Marital Status, Education, Number of Dependents, Income, Loan Amount, Credit History and others. To automate this process, they have provided a dataset to identify the customers segments that are eligible for loan amount so that they can specifically target these customers. "
   ]
  },
  {
   "cell_type": "markdown",
   "id": "997f9174",
   "metadata": {},
   "source": [
    "## Dataset"
   ]
  },
  {
   "cell_type": "markdown",
   "id": "79ac25fb",
   "metadata": {},
   "source": [
    "CSV containing the customers for whom loan eligibility is known."
   ]
  },
  {
   "cell_type": "markdown",
   "id": "1116e3f6",
   "metadata": {},
   "source": [
    "**Variable** | **Description**\n",
    "\n",
    "- Loan_ID | Unique Loan ID\n",
    "- Gender | Male / Female\n",
    "- Married | Applicant married (Y / N)\n",
    "- Dependents | Number of dependents\n",
    "- Education | Applicant Education (Graduate / Under Graduate)\n",
    "- Self_Employed | Self employed (Y / N)\n",
    "- ApplicantIncome | Applicant income\n",
    "- CoapplicantIncome | Coapplicant income\n",
    "- LoanAmount | Loan amount in thousands\n",
    "- Loan_Amount_Term | Term of loan in months\n",
    "- Credit_History | credit history meets guidelines\n",
    "- Property_Area | Urban / Semi Urban / Rural\n",
    "- Loan_Status | (**Target**) Loan approved (Y/N)"
   ]
  },
  {
   "cell_type": "code",
   "execution_count": 1,
   "id": "4969cc99",
   "metadata": {},
   "outputs": [],
   "source": [
    "import pandas as pd\n",
    "import numpy as np\n",
    "import seaborn as sns\n",
    "import matplotlib.pyplot as plt\n",
    "\n",
    "from sklearn import datasets, preprocessing, metrics \n",
    "from sklearn.model_selection import train_test_split\n",
    "\n",
    "from sklearn.linear_model import LogisticRegression\n",
    "from sklearn.discriminant_analysis import LinearDiscriminantAnalysis\n",
    "from sklearn.svm import SVC\n",
    "from sklearn.neighbors import KNeighborsClassifier\n",
    "from sklearn.naive_bayes import GaussianNB\n",
    "from sklearn.tree import DecisionTreeClassifier\n",
    "from sklearn.ensemble import RandomForestClassifier\n",
    "from xgboost import XGBClassifier\n",
    "\n",
    "import warnings\n",
    "warnings.filterwarnings('ignore')"
   ]
  },
  {
   "cell_type": "code",
   "execution_count": 2,
   "id": "f37f10d6",
   "metadata": {},
   "outputs": [],
   "source": [
    "loan_data = pd.read_csv('data.csv')"
   ]
  },
  {
   "cell_type": "code",
   "execution_count": 3,
   "id": "2063c231",
   "metadata": {},
   "outputs": [
    {
     "data": {
      "text/plain": [
       "Index(['Loan_ID', 'Gender', 'Married', 'Dependents', 'Education',\n",
       "       'Self_Employed', 'ApplicantIncome', 'CoapplicantIncome', 'LoanAmount',\n",
       "       'Loan_Amount_Term', 'Credit_History', 'Property_Area', 'Loan_Status'],\n",
       "      dtype='object')"
      ]
     },
     "execution_count": 3,
     "metadata": {},
     "output_type": "execute_result"
    }
   ],
   "source": [
    "loan_data.columns"
   ]
  },
  {
   "cell_type": "code",
   "execution_count": 4,
   "id": "9ec0081a",
   "metadata": {},
   "outputs": [
    {
     "data": {
      "text/plain": [
       "Loan_ID               object\n",
       "Gender                object\n",
       "Married               object\n",
       "Dependents            object\n",
       "Education             object\n",
       "Self_Employed         object\n",
       "ApplicantIncome        int64\n",
       "CoapplicantIncome    float64\n",
       "LoanAmount           float64\n",
       "Loan_Amount_Term     float64\n",
       "Credit_History       float64\n",
       "Property_Area         object\n",
       "Loan_Status           object\n",
       "dtype: object"
      ]
     },
     "execution_count": 4,
     "metadata": {},
     "output_type": "execute_result"
    }
   ],
   "source": [
    "loan_data.dtypes"
   ]
  },
  {
   "cell_type": "code",
   "execution_count": 5,
   "id": "f6283519",
   "metadata": {},
   "outputs": [
    {
     "data": {
      "text/plain": [
       "(614, 13)"
      ]
     },
     "execution_count": 5,
     "metadata": {},
     "output_type": "execute_result"
    }
   ],
   "source": [
    "loan_data.shape"
   ]
  },
  {
   "cell_type": "code",
   "execution_count": 6,
   "id": "3fb39b1a",
   "metadata": {},
   "outputs": [
    {
     "data": {
      "text/html": [
       "<div>\n",
       "<style scoped>\n",
       "    .dataframe tbody tr th:only-of-type {\n",
       "        vertical-align: middle;\n",
       "    }\n",
       "\n",
       "    .dataframe tbody tr th {\n",
       "        vertical-align: top;\n",
       "    }\n",
       "\n",
       "    .dataframe thead th {\n",
       "        text-align: right;\n",
       "    }\n",
       "</style>\n",
       "<table border=\"1\" class=\"dataframe\">\n",
       "  <thead>\n",
       "    <tr style=\"text-align: right;\">\n",
       "      <th></th>\n",
       "      <th>Loan_ID</th>\n",
       "      <th>Gender</th>\n",
       "      <th>Married</th>\n",
       "      <th>Dependents</th>\n",
       "      <th>Education</th>\n",
       "      <th>Self_Employed</th>\n",
       "      <th>ApplicantIncome</th>\n",
       "      <th>CoapplicantIncome</th>\n",
       "      <th>LoanAmount</th>\n",
       "      <th>Loan_Amount_Term</th>\n",
       "      <th>Credit_History</th>\n",
       "      <th>Property_Area</th>\n",
       "      <th>Loan_Status</th>\n",
       "    </tr>\n",
       "  </thead>\n",
       "  <tbody>\n",
       "    <tr>\n",
       "      <th>386</th>\n",
       "      <td>LP002239</td>\n",
       "      <td>Male</td>\n",
       "      <td>No</td>\n",
       "      <td>0</td>\n",
       "      <td>Not Graduate</td>\n",
       "      <td>No</td>\n",
       "      <td>2346</td>\n",
       "      <td>1600.0</td>\n",
       "      <td>132.0</td>\n",
       "      <td>360.0</td>\n",
       "      <td>1.0</td>\n",
       "      <td>Semiurban</td>\n",
       "      <td>Y</td>\n",
       "    </tr>\n",
       "    <tr>\n",
       "      <th>564</th>\n",
       "      <td>LP002832</td>\n",
       "      <td>Male</td>\n",
       "      <td>Yes</td>\n",
       "      <td>2</td>\n",
       "      <td>Graduate</td>\n",
       "      <td>No</td>\n",
       "      <td>8799</td>\n",
       "      <td>0.0</td>\n",
       "      <td>258.0</td>\n",
       "      <td>360.0</td>\n",
       "      <td>0.0</td>\n",
       "      <td>Urban</td>\n",
       "      <td>N</td>\n",
       "    </tr>\n",
       "    <tr>\n",
       "      <th>413</th>\n",
       "      <td>LP002332</td>\n",
       "      <td>Male</td>\n",
       "      <td>Yes</td>\n",
       "      <td>0</td>\n",
       "      <td>Not Graduate</td>\n",
       "      <td>No</td>\n",
       "      <td>2253</td>\n",
       "      <td>2033.0</td>\n",
       "      <td>110.0</td>\n",
       "      <td>360.0</td>\n",
       "      <td>1.0</td>\n",
       "      <td>Rural</td>\n",
       "      <td>Y</td>\n",
       "    </tr>\n",
       "    <tr>\n",
       "      <th>554</th>\n",
       "      <td>LP002789</td>\n",
       "      <td>Male</td>\n",
       "      <td>Yes</td>\n",
       "      <td>0</td>\n",
       "      <td>Graduate</td>\n",
       "      <td>No</td>\n",
       "      <td>3593</td>\n",
       "      <td>4266.0</td>\n",
       "      <td>132.0</td>\n",
       "      <td>180.0</td>\n",
       "      <td>0.0</td>\n",
       "      <td>Rural</td>\n",
       "      <td>N</td>\n",
       "    </tr>\n",
       "    <tr>\n",
       "      <th>154</th>\n",
       "      <td>LP001535</td>\n",
       "      <td>Male</td>\n",
       "      <td>No</td>\n",
       "      <td>0</td>\n",
       "      <td>Graduate</td>\n",
       "      <td>No</td>\n",
       "      <td>3254</td>\n",
       "      <td>0.0</td>\n",
       "      <td>50.0</td>\n",
       "      <td>360.0</td>\n",
       "      <td>1.0</td>\n",
       "      <td>Urban</td>\n",
       "      <td>Y</td>\n",
       "    </tr>\n",
       "  </tbody>\n",
       "</table>\n",
       "</div>"
      ],
      "text/plain": [
       "      Loan_ID Gender Married Dependents     Education Self_Employed  \\\n",
       "386  LP002239   Male      No          0  Not Graduate            No   \n",
       "564  LP002832   Male     Yes          2      Graduate            No   \n",
       "413  LP002332   Male     Yes          0  Not Graduate            No   \n",
       "554  LP002789   Male     Yes          0      Graduate            No   \n",
       "154  LP001535   Male      No          0      Graduate            No   \n",
       "\n",
       "     ApplicantIncome  CoapplicantIncome  LoanAmount  Loan_Amount_Term  \\\n",
       "386             2346             1600.0       132.0             360.0   \n",
       "564             8799                0.0       258.0             360.0   \n",
       "413             2253             2033.0       110.0             360.0   \n",
       "554             3593             4266.0       132.0             180.0   \n",
       "154             3254                0.0        50.0             360.0   \n",
       "\n",
       "     Credit_History Property_Area Loan_Status  \n",
       "386             1.0     Semiurban           Y  \n",
       "564             0.0         Urban           N  \n",
       "413             1.0         Rural           Y  \n",
       "554             0.0         Rural           N  \n",
       "154             1.0         Urban           Y  "
      ]
     },
     "execution_count": 6,
     "metadata": {},
     "output_type": "execute_result"
    }
   ],
   "source": [
    "loan_data.sample(5)"
   ]
  },
  {
   "cell_type": "code",
   "execution_count": 7,
   "id": "de87be73",
   "metadata": {},
   "outputs": [
    {
     "data": {
      "text/html": [
       "<div>\n",
       "<style scoped>\n",
       "    .dataframe tbody tr th:only-of-type {\n",
       "        vertical-align: middle;\n",
       "    }\n",
       "\n",
       "    .dataframe tbody tr th {\n",
       "        vertical-align: top;\n",
       "    }\n",
       "\n",
       "    .dataframe thead th {\n",
       "        text-align: right;\n",
       "    }\n",
       "</style>\n",
       "<table border=\"1\" class=\"dataframe\">\n",
       "  <thead>\n",
       "    <tr style=\"text-align: right;\">\n",
       "      <th></th>\n",
       "      <th>ApplicantIncome</th>\n",
       "      <th>CoapplicantIncome</th>\n",
       "      <th>LoanAmount</th>\n",
       "      <th>Loan_Amount_Term</th>\n",
       "      <th>Credit_History</th>\n",
       "    </tr>\n",
       "  </thead>\n",
       "  <tbody>\n",
       "    <tr>\n",
       "      <th>count</th>\n",
       "      <td>614.000000</td>\n",
       "      <td>614.000000</td>\n",
       "      <td>592.000000</td>\n",
       "      <td>600.00000</td>\n",
       "      <td>564.000000</td>\n",
       "    </tr>\n",
       "    <tr>\n",
       "      <th>mean</th>\n",
       "      <td>5403.459283</td>\n",
       "      <td>1621.245798</td>\n",
       "      <td>146.412162</td>\n",
       "      <td>342.00000</td>\n",
       "      <td>0.842199</td>\n",
       "    </tr>\n",
       "    <tr>\n",
       "      <th>std</th>\n",
       "      <td>6109.041673</td>\n",
       "      <td>2926.248369</td>\n",
       "      <td>85.587325</td>\n",
       "      <td>65.12041</td>\n",
       "      <td>0.364878</td>\n",
       "    </tr>\n",
       "    <tr>\n",
       "      <th>min</th>\n",
       "      <td>150.000000</td>\n",
       "      <td>0.000000</td>\n",
       "      <td>9.000000</td>\n",
       "      <td>12.00000</td>\n",
       "      <td>0.000000</td>\n",
       "    </tr>\n",
       "    <tr>\n",
       "      <th>25%</th>\n",
       "      <td>2877.500000</td>\n",
       "      <td>0.000000</td>\n",
       "      <td>100.000000</td>\n",
       "      <td>360.00000</td>\n",
       "      <td>1.000000</td>\n",
       "    </tr>\n",
       "    <tr>\n",
       "      <th>50%</th>\n",
       "      <td>3812.500000</td>\n",
       "      <td>1188.500000</td>\n",
       "      <td>128.000000</td>\n",
       "      <td>360.00000</td>\n",
       "      <td>1.000000</td>\n",
       "    </tr>\n",
       "    <tr>\n",
       "      <th>75%</th>\n",
       "      <td>5795.000000</td>\n",
       "      <td>2297.250000</td>\n",
       "      <td>168.000000</td>\n",
       "      <td>360.00000</td>\n",
       "      <td>1.000000</td>\n",
       "    </tr>\n",
       "    <tr>\n",
       "      <th>max</th>\n",
       "      <td>81000.000000</td>\n",
       "      <td>41667.000000</td>\n",
       "      <td>700.000000</td>\n",
       "      <td>480.00000</td>\n",
       "      <td>1.000000</td>\n",
       "    </tr>\n",
       "  </tbody>\n",
       "</table>\n",
       "</div>"
      ],
      "text/plain": [
       "       ApplicantIncome  CoapplicantIncome  LoanAmount  Loan_Amount_Term  \\\n",
       "count       614.000000         614.000000  592.000000         600.00000   \n",
       "mean       5403.459283        1621.245798  146.412162         342.00000   \n",
       "std        6109.041673        2926.248369   85.587325          65.12041   \n",
       "min         150.000000           0.000000    9.000000          12.00000   \n",
       "25%        2877.500000           0.000000  100.000000         360.00000   \n",
       "50%        3812.500000        1188.500000  128.000000         360.00000   \n",
       "75%        5795.000000        2297.250000  168.000000         360.00000   \n",
       "max       81000.000000       41667.000000  700.000000         480.00000   \n",
       "\n",
       "       Credit_History  \n",
       "count      564.000000  \n",
       "mean         0.842199  \n",
       "std          0.364878  \n",
       "min          0.000000  \n",
       "25%          1.000000  \n",
       "50%          1.000000  \n",
       "75%          1.000000  \n",
       "max          1.000000  "
      ]
     },
     "execution_count": 7,
     "metadata": {},
     "output_type": "execute_result"
    }
   ],
   "source": [
    "loan_data.describe()"
   ]
  },
  {
   "cell_type": "markdown",
   "id": "22008222",
   "metadata": {},
   "source": [
    "### Univariate Analysis\n",
    "\n",
    "It is the simplest form of analyzing data where we examine each variable individually.\n",
    "\n",
    "- For categorical features, we can use the frequency table or bar plots which will calculate the number of each category in a particular variable.\n",
    "- For numerical features, probability density plots can be used to look at the distribution of the variable."
   ]
  },
  {
   "cell_type": "code",
   "execution_count": 8,
   "id": "055bc246",
   "metadata": {},
   "outputs": [],
   "source": [
    "# Target Variable - Loan_Status"
   ]
  },
  {
   "cell_type": "code",
   "execution_count": 9,
   "id": "ac2f2c1c",
   "metadata": {},
   "outputs": [
    {
     "data": {
      "text/plain": [
       "Y    422\n",
       "N    192\n",
       "Name: Loan_Status, dtype: int64"
      ]
     },
     "execution_count": 9,
     "metadata": {},
     "output_type": "execute_result"
    }
   ],
   "source": [
    "loan_data['Loan_Status'].value_counts()"
   ]
  },
  {
   "cell_type": "code",
   "execution_count": 10,
   "id": "1df5def8",
   "metadata": {},
   "outputs": [
    {
     "data": {
      "text/plain": [
       "Y    0.687296\n",
       "N    0.312704\n",
       "Name: Loan_Status, dtype: float64"
      ]
     },
     "execution_count": 10,
     "metadata": {},
     "output_type": "execute_result"
    }
   ],
   "source": [
    "loan_data['Loan_Status'].value_counts(normalize=True)"
   ]
  },
  {
   "cell_type": "code",
   "execution_count": 11,
   "id": "b3303654",
   "metadata": {},
   "outputs": [
    {
     "data": {
      "image/png": "[encoded data removed]",
      "text/plain": [
       "<Figure size 1440x720 with 1 Axes>"
      ]
     },
     "metadata": {
      "needs_background": "light"
     },
     "output_type": "display_data"
    }
   ],
   "source": [
    "plt.figure(1, figsize=(20,10))\n",
    "loan_data['Loan_Status'].value_counts(normalize=True).plot.bar()\n",
    "plt.show()"
   ]
  },
  {
   "cell_type": "markdown",
   "id": "c6458f59",
   "metadata": {},
   "source": [
    "Inference: 68.72% of the loan applications in the dataset were approved."
   ]
  },
  {
   "cell_type": "code",
   "execution_count": 12,
   "id": "a3313764",
   "metadata": {},
   "outputs": [
    {
     "data": {
      "text/plain": [
       "Loan_ID               object\n",
       "Gender                object\n",
       "Married               object\n",
       "Dependents            object\n",
       "Education             object\n",
       "Self_Employed         object\n",
       "ApplicantIncome        int64\n",
       "CoapplicantIncome    float64\n",
       "LoanAmount           float64\n",
       "Loan_Amount_Term     float64\n",
       "Credit_History       float64\n",
       "Property_Area         object\n",
       "Loan_Status           object\n",
       "dtype: object"
      ]
     },
     "execution_count": 12,
     "metadata": {},
     "output_type": "execute_result"
    }
   ],
   "source": [
    "loan_data.dtypes"
   ]
  },
  {
   "cell_type": "code",
   "execution_count": 13,
   "id": "914a0b7c",
   "metadata": {},
   "outputs": [],
   "source": [
    "# There are three types of features:\n",
    "\n",
    "# 1) Categorial - features having categories\n",
    "# Examples: Gender, Married, Self_Employed, Credit_History\n",
    "\n",
    "# 2) Ordinal - categorical features having some order involved\n",
    "# Examples: Dependents, Education, Property_Area\n",
    "\n",
    "# 3) Numerical - features having numerical values\n",
    "# Examples: ApplicantIncome, CoapplicantIncome, LoanAmount, Loan_Amount_Term"
   ]
  },
  {
   "cell_type": "code",
   "execution_count": 14,
   "id": "0d10870e",
   "metadata": {},
   "outputs": [],
   "source": [
    "# Categorical Varibales"
   ]
  },
  {
   "cell_type": "code",
   "execution_count": 15,
   "id": "96c3a348",
   "metadata": {},
   "outputs": [
    {
     "data": {
      "image/png": "[encoded data removed]",
      "text/plain": [
       "<Figure size 1440x720 with 4 Axes>"
      ]
     },
     "metadata": {
      "needs_background": "light"
     },
     "output_type": "display_data"
    }
   ],
   "source": [
    "plt.figure(1, figsize=(20,10))\n",
    "plt.subplot(221)\n",
    "loan_data['Gender'].value_counts(normalize=True).plot.bar(title='Gender')\n",
    "plt.subplot(222)\n",
    "loan_data['Married'].value_counts(normalize=True).plot.bar(title='Married')\n",
    "plt.subplot(223)\n",
    "loan_data['Self_Employed'].value_counts(normalize=True).plot.bar(title='Self_Employed')\n",
    "plt.subplot(224)\n",
    "loan_data['Credit_History'].value_counts(normalize=True).plot.bar(title='Credit_History')\n",
    "plt.show()"
   ]
  },
  {
   "cell_type": "markdown",
   "id": "70503615",
   "metadata": {},
   "source": [
    "Inference:\n",
    "    \n",
    "- Around 80% applicants in the dataset are male\n",
    "- Around 65% applicants in the dataset are married\n",
    "- Around 85% applicants in the dataset are employed\n",
    "- Around 85% applicants have repaid their past debts"
   ]
  },
  {
   "cell_type": "code",
   "execution_count": 16,
   "id": "8fd3484d",
   "metadata": {},
   "outputs": [],
   "source": [
    "# Ordinal Variables"
   ]
  },
  {
   "cell_type": "code",
   "execution_count": 17,
   "id": "296470de",
   "metadata": {},
   "outputs": [
    {
     "data": {
      "image/png": "[encoded data removed]",
      "text/plain": [
       "<Figure size 1440x720 with 3 Axes>"
      ]
     },
     "metadata": {
      "needs_background": "light"
     },
     "output_type": "display_data"
    }
   ],
   "source": [
    "plt.figure(1, figsize=(20,10))\n",
    "plt.subplot(131)\n",
    "loan_data['Dependents'].value_counts(normalize=True).plot.bar(title='Dependents')\n",
    "plt.subplot(132)\n",
    "loan_data['Education'].value_counts(normalize=True).plot.bar(title='Education')\n",
    "plt.subplot(133)\n",
    "loan_data['Property_Area'].value_counts(normalize=True).plot.bar(title='Property_Area')\n",
    "plt.show()"
   ]
  },
  {
   "cell_type": "markdown",
   "id": "d00022f6",
   "metadata": {},
   "source": [
    "Inference:\n",
    "    \n",
    "- Most of the applicants don't have any dependants\n",
    "- Most of the applicants are graduates.\n",
    "- Most of the applicants are from semiurban areas."
   ]
  },
  {
   "cell_type": "code",
   "execution_count": 18,
   "id": "8e9604af",
   "metadata": {},
   "outputs": [],
   "source": [
    "# Numerical Variables"
   ]
  },
  {
   "cell_type": "code",
   "execution_count": 19,
   "id": "09863284",
   "metadata": {},
   "outputs": [
    {
     "data": {
      "image/png": "[encoded data removed]",
      "text/plain": [
       "<Figure size 1440x720 with 2 Axes>"
      ]
     },
     "metadata": {
      "needs_background": "light"
     },
     "output_type": "display_data"
    }
   ],
   "source": [
    "plt.figure(1, figsize=(20, 10))\n",
    "plt.subplot(121)\n",
    "sns.distplot(loan_data['ApplicantIncome'])\n",
    "plt.subplot(122)\n",
    "loan_data.boxplot(column='ApplicantIncome')\n",
    "plt.show()"
   ]
  },
  {
   "cell_type": "markdown",
   "id": "638e61df",
   "metadata": {},
   "source": [
    "**Inference - 'ApplicantIncome'**\n",
    "\n",
    "- It can be inferred that most of the data in the distribution of applicant incomes is towards left, i.e. it is not normally distributed.\n",
    "\n",
    "- The boxplot confirms the presence of a lot of outliers/extreme values. This can be attributed to the income disparity in the society. "
   ]
  },
  {
   "cell_type": "code",
   "execution_count": 20,
   "id": "00135ad4",
   "metadata": {},
   "outputs": [
    {
     "data": {
      "image/png": "[encoded data removed]",
      "text/plain": [
       "<Figure size 1440x720 with 1 Axes>"
      ]
     },
     "metadata": {
      "needs_background": "light"
     },
     "output_type": "display_data"
    }
   ],
   "source": [
    "loan_data.boxplot(column='ApplicantIncome', by='Education', figsize=(20, 10))\n",
    "plt.suptitle(\"\")\n",
    "plt.show()"
   ]
  },
  {
   "cell_type": "markdown",
   "id": "f64f2d4e",
   "metadata": {},
   "source": [
    "We can see that there is a large number of graduates with very high incomes, which are appearing to be the outliers."
   ]
  },
  {
   "cell_type": "code",
   "execution_count": 21,
   "id": "ffd30908",
   "metadata": {},
   "outputs": [
    {
     "data": {
      "image/png": "[encoded data removed]",
      "text/plain": [
       "<Figure size 1440x720 with 2 Axes>"
      ]
     },
     "metadata": {
      "needs_background": "light"
     },
     "output_type": "display_data"
    }
   ],
   "source": [
    "plt.figure(1, figsize=(20, 10))\n",
    "plt.subplot(121)\n",
    "sns.distplot(loan_data['CoapplicantIncome'])\n",
    "plt.subplot(122)\n",
    "loan_data.boxplot(column='CoapplicantIncome')\n",
    "plt.show()"
   ]
  },
  {
   "cell_type": "markdown",
   "id": "5ef4490e",
   "metadata": {},
   "source": [
    "**Inference - 'CoapplicantIncome'**\n",
    "\n",
    "- It can be inferred that most of the data in the distribution of coapplicant incomes is towards left, i.e. it is not normally distributed.\n",
    "\n",
    "- The boxplot confirms the presence of a lot of outliers/extreme values."
   ]
  },
  {
   "cell_type": "code",
   "execution_count": 22,
   "id": "b1768360",
   "metadata": {},
   "outputs": [
    {
     "data": {
      "image/png": "[encoded data removed]",
      "text/plain": [
       "<Figure size 1440x720 with 2 Axes>"
      ]
     },
     "metadata": {
      "needs_background": "light"
     },
     "output_type": "display_data"
    }
   ],
   "source": [
    "# LoanAmount\n",
    "\n",
    "plt.figure(1, figsize=(20, 10))\n",
    "plt.subplot(121)\n",
    "sns.distplot(loan_data['LoanAmount'])\n",
    "plt.subplot(122)\n",
    "loan_data.boxplot(column='LoanAmount')\n",
    "plt.show()"
   ]
  },
  {
   "cell_type": "markdown",
   "id": "84d6e53c",
   "metadata": {},
   "source": [
    "**Inference - 'LoanAmount'**\n",
    "\n",
    "- It can be inferred that most of the data is normally distributed.\n",
    "\n",
    "- The boxplot confirms the presence of a lot of outliers/extreme values."
   ]
  },
  {
   "cell_type": "markdown",
   "id": "22c45ba5",
   "metadata": {},
   "source": [
    "### Bivariate Analysis"
   ]
  },
  {
   "cell_type": "code",
   "execution_count": 23,
   "id": "87129120",
   "metadata": {},
   "outputs": [
    {
     "data": {
      "image/png": "[encoded data removed]",
      "text/plain": [
       "<Figure size 288x288 with 1 Axes>"
      ]
     },
     "metadata": {
      "needs_background": "light"
     },
     "output_type": "display_data"
    }
   ],
   "source": [
    "Gender=pd.crosstab(loan_data[ 'Gender'],loan_data['Loan_Status']) \n",
    "Gender.div(Gender.sum(1).astype(float), axis=0).plot(kind=\"bar\", \n",
    "stacked=True, figsize=(4,4))\n",
    "plt.show()"
   ]
  },
  {
   "cell_type": "markdown",
   "id": "2ce589cb",
   "metadata": {},
   "source": [
    "### Missing Value and Outlier Treatment"
   ]
  },
  {
   "cell_type": "markdown",
   "id": "2b881ce1",
   "metadata": {},
   "source": [
    "We need to impute the missing values and treat theoutliers because missing data and outliers can have adverse effect on the model performance. "
   ]
  },
  {
   "cell_type": "markdown",
   "id": "e29ebcd4",
   "metadata": {},
   "source": [
    "**Missing value imputation**"
   ]
  },
  {
   "cell_type": "code",
   "execution_count": 24,
   "id": "e977a093",
   "metadata": {},
   "outputs": [
    {
     "data": {
      "text/plain": [
       "Loan_ID               0\n",
       "Gender               13\n",
       "Married               3\n",
       "Dependents           15\n",
       "Education             0\n",
       "Self_Employed        32\n",
       "ApplicantIncome       0\n",
       "CoapplicantIncome     0\n",
       "LoanAmount           22\n",
       "Loan_Amount_Term     14\n",
       "Credit_History       50\n",
       "Property_Area         0\n",
       "Loan_Status           0\n",
       "dtype: int64"
      ]
     },
     "execution_count": 24,
     "metadata": {},
     "output_type": "execute_result"
    }
   ],
   "source": [
    "loan_data.isnull().sum()"
   ]
  },
  {
   "cell_type": "markdown",
   "id": "713a74cc",
   "metadata": {},
   "source": [
    "We can consider these methods to fill the missing values: \n",
    "- For numerical variables: imputation using mean or median \n",
    "- For categorical variables: imputation using mode "
   ]
  },
  {
   "cell_type": "code",
   "execution_count": 25,
   "id": "f231a4d4",
   "metadata": {},
   "outputs": [],
   "source": [
    "loan_data['Gender'].fillna(\n",
    "    loan_data[ 'Gender'].mode()[0], \n",
    "    inplace=True\n",
    ") \n",
    "\n",
    "loan_data['Married'].fillna(\n",
    "    loan_data['Married'].mode()[0], \n",
    "    inplace=True\n",
    ") \n",
    "\n",
    "loan_data['Dependents'].fillna(\n",
    "    loan_data[ 'Dependents'].mode()[0], \n",
    "    inplace=True\n",
    ") \n",
    "\n",
    "loan_data['Self_Employed'].fillna(\n",
    "    loan_data['Self_Employed'].mode()[0], \n",
    "    inplace=True\n",
    ") \n",
    "\n",
    "loan_data['Credit_History'].fillna(\n",
    "    loan_data['Credit_History'].mode()[0], \n",
    "    inplace=True\n",
    ") \n",
    "\n",
    "loan_data['Loan_Amount_Term'].fillna(\n",
    "    loan_data[ 'Loan_Amount_Term' ].mode()[0], \n",
    "    inplace=True\n",
    ") "
   ]
  },
  {
   "cell_type": "code",
   "execution_count": 26,
   "id": "00b9d2b9",
   "metadata": {},
   "outputs": [],
   "source": [
    "loan_data['LoanAmount'].fillna(\n",
    "    loan_data['LoanAmount'].median(), \n",
    "    inplace=True\n",
    ") "
   ]
  },
  {
   "cell_type": "code",
   "execution_count": 27,
   "id": "d8a7390f",
   "metadata": {},
   "outputs": [
    {
     "data": {
      "text/plain": [
       "Loan_ID              0\n",
       "Gender               0\n",
       "Married              0\n",
       "Dependents           0\n",
       "Education            0\n",
       "Self_Employed        0\n",
       "ApplicantIncome      0\n",
       "CoapplicantIncome    0\n",
       "LoanAmount           0\n",
       "Loan_Amount_Term     0\n",
       "Credit_History       0\n",
       "Property_Area        0\n",
       "Loan_Status          0\n",
       "dtype: int64"
      ]
     },
     "execution_count": 27,
     "metadata": {},
     "output_type": "execute_result"
    }
   ],
   "source": [
    "loan_data.isnull().sum()"
   ]
  },
  {
   "cell_type": "markdown",
   "id": "c6125d7e",
   "metadata": {},
   "source": [
    "**Outlier Treatments**"
   ]
  },
  {
   "cell_type": "code",
   "execution_count": 28,
   "id": "7df503d7",
   "metadata": {},
   "outputs": [
    {
     "data": {
      "image/png": "[encoded data removed]",
      "text/plain": [
       "<Figure size 432x288 with 1 Axes>"
      ]
     },
     "metadata": {
      "needs_background": "light"
     },
     "output_type": "display_data"
    }
   ],
   "source": [
    "loan_data['LoanAmount'].hist(bins=20)\n",
    "plt.show()"
   ]
  },
  {
   "cell_type": "markdown",
   "id": "2b228188",
   "metadata": {},
   "source": [
    "Due to the outliers, bulk of the data in the loan amount is at the left and the right tail is longer. This is called right skewness. \n",
    "\n",
    "One way to remove the skewness is by doing the log transformation. \n",
    "\n",
    "As we take the log transformation, it does not affect the smaller values much, but reduces the larger values. So, we get a distribution similar to normal distribution"
   ]
  },
  {
   "cell_type": "code",
   "execution_count": 29,
   "id": "3af390fc",
   "metadata": {},
   "outputs": [
    {
     "data": {
      "image/png": "[encoded data removed]",
      "text/plain": [
       "<Figure size 432x288 with 1 Axes>"
      ]
     },
     "metadata": {
      "needs_background": "light"
     },
     "output_type": "display_data"
    }
   ],
   "source": [
    "loan_data['LoanAmount_log'] = np.log(loan_data['LoanAmount'])\n",
    "loan_data['LoanAmount_log'].hist(bins=20)\n",
    "plt.show()"
   ]
  },
  {
   "cell_type": "markdown",
   "id": "20f8b623",
   "metadata": {},
   "source": [
    "### Model Building : Part I"
   ]
  },
  {
   "cell_type": "markdown",
   "id": "475c21b0",
   "metadata": {},
   "source": [
    "Lets drop the Loan_ID variable as it do not have any effect on the loan status."
   ]
  },
  {
   "cell_type": "code",
   "execution_count": 30,
   "id": "fdf8b644",
   "metadata": {},
   "outputs": [],
   "source": [
    "loan_data = loan_data.drop('Loan_ID',axis=1)"
   ]
  },
  {
   "cell_type": "markdown",
   "id": "64277a1a",
   "metadata": {},
   "source": [
    "Sklearn requires the target variable in a separate dataset. So, we will drop our target variable\n",
    "from the loan_data dataset and save it in another dataset."
   ]
  },
  {
   "cell_type": "code",
   "execution_count": 31,
   "id": "b278ac23",
   "metadata": {},
   "outputs": [],
   "source": [
    "X = loan_data.drop('Loan_Status',1) \n",
    "y = loan_data.Loan_Status"
   ]
  },
  {
   "cell_type": "markdown",
   "id": "02d04396",
   "metadata": {},
   "source": [
    "Now we will make dummy variables for the categorical variables."
   ]
  },
  {
   "cell_type": "code",
   "execution_count": 32,
   "id": "0fd26f2b",
   "metadata": {},
   "outputs": [],
   "source": [
    "X = pd.get_dummies(X) "
   ]
  },
  {
   "cell_type": "code",
   "execution_count": 33,
   "id": "9038b692",
   "metadata": {},
   "outputs": [],
   "source": [
    "from sklearn.model_selection import train_test_split\n",
    "X_train, X_test, y_train, y_test = train_test_split(X, y, test_size=0.3)"
   ]
  },
  {
   "cell_type": "code",
   "execution_count": 34,
   "id": "c9a269f1",
   "metadata": {},
   "outputs": [
    {
     "data": {
      "text/plain": [
       "((429, 21), (429,))"
      ]
     },
     "execution_count": 34,
     "metadata": {},
     "output_type": "execute_result"
    }
   ],
   "source": [
    "X_train.shape, y_train.shape"
   ]
  },
  {
   "cell_type": "code",
   "execution_count": 35,
   "id": "f45e23ee",
   "metadata": {},
   "outputs": [
    {
     "data": {
      "text/plain": [
       "((185, 21), (185,))"
      ]
     },
     "execution_count": 35,
     "metadata": {},
     "output_type": "execute_result"
    }
   ],
   "source": [
    "X_test.shape, y_test.shape"
   ]
  },
  {
   "cell_type": "code",
   "execution_count": 36,
   "id": "85732d55",
   "metadata": {},
   "outputs": [],
   "source": [
    "classifiers = []\n",
    "\n",
    "lr_classifier = LogisticRegression()\n",
    "classifiers.append(lr_classifier)\n",
    "lda_classifier = LinearDiscriminantAnalysis()\n",
    "classifiers.append(lda_classifier)\n",
    "sv_classifier = SVC()\n",
    "classifiers.append(sv_classifier)\n",
    "kn_classifier = KNeighborsClassifier()\n",
    "classifiers.append(kn_classifier)\n",
    "gnb_classifier = GaussianNB()\n",
    "classifiers.append(gnb_classifier)\n",
    "dt_classifier = DecisionTreeClassifier()\n",
    "classifiers.append(dt_classifier)\n",
    "rf_classifier = RandomForestClassifier()\n",
    "classifiers.append(rf_classifier)\n",
    "xgb_classifier = XGBClassifier(eval_metric='logloss')\n",
    "classifiers.append(xgb_classifier)"
   ]
  },
  {
   "cell_type": "code",
   "execution_count": 37,
   "id": "e1cde07c",
   "metadata": {},
   "outputs": [
    {
     "name": "stdout",
     "output_type": "stream",
     "text": [
      "<class 'sklearn.linear_model._logistic.LogisticRegression'>\n",
      "Accuracy: 0.7945945945945946\n",
      "Precision: 0.7894736842105263\n",
      "Recall: 0.9523809523809523\n",
      "----\n",
      "<class 'sklearn.discriminant_analysis.LinearDiscriminantAnalysis'>\n",
      "Accuracy: 0.8108108108108109\n",
      "Precision: 0.7898089171974523\n",
      "Recall: 0.9841269841269841\n",
      "----\n",
      "<class 'sklearn.svm._classes.SVC'>\n",
      "Accuracy: 0.6702702702702703\n",
      "Precision: 0.6775956284153005\n",
      "Recall: 0.9841269841269841\n",
      "----\n",
      "<class 'sklearn.neighbors._classification.KNeighborsClassifier'>\n",
      "Accuracy: 0.6162162162162163\n",
      "Precision: 0.6797385620915033\n",
      "Recall: 0.8253968253968254\n",
      "----\n",
      "<class 'sklearn.naive_bayes.GaussianNB'>\n",
      "Accuracy: 0.772972972972973\n",
      "Precision: 0.7837837837837838\n",
      "Recall: 0.9206349206349206\n",
      "----\n",
      "<class 'sklearn.tree._classes.DecisionTreeClassifier'>\n",
      "Accuracy: 0.6756756756756757\n",
      "Precision: 0.7619047619047619\n",
      "Recall: 0.7619047619047619\n",
      "----\n",
      "<class 'sklearn.ensemble._forest.RandomForestClassifier'>\n",
      "Accuracy: 0.7567567567567568\n",
      "Precision: 0.7872340425531915\n",
      "Recall: 0.8809523809523809\n",
      "----\n",
      "<class 'xgboost.sklearn.XGBClassifier'>\n",
      "Accuracy: 0.7297297297297297\n",
      "Precision: 0.8064516129032258\n",
      "Recall: 0.7936507936507936\n",
      "----\n"
     ]
    }
   ],
   "source": [
    "for classifier in classifiers:\n",
    "    print(type(classifier))\n",
    "    classifier.fit(X_train, y_train)\n",
    "    y_pred = classifier.predict(X_test)\n",
    "    print(\"Accuracy:\",metrics.accuracy_score(y_test, y_pred))\n",
    "    print(\"Precision:\",metrics.precision_score(y_test, y_pred, pos_label='Y'))\n",
    "    print(\"Recall:\",metrics.recall_score(y_test, y_pred, pos_label='Y'))\n",
    "    print(\"----\")"
   ]
  },
  {
   "cell_type": "markdown",
   "id": "72cda029",
   "metadata": {},
   "source": [
    "### Feature Engineering"
   ]
  },
  {
   "cell_type": "markdown",
   "id": "3522605c",
   "metadata": {},
   "source": [
    "Based on the domain knowledge, we can come up with new features that might affect the target\n",
    "variable. We will create the following three new features:\n",
    "\n",
    "- Total Income - As discussed during bivariate analysis we will combine the Applicant Income and Coapplicant Income. If the total income is high, chances of loan approval might also be high.\n",
    "\n",
    "- EMI - EMI is the monthly amount to be paid by the applicant to repay the loan. Idea behind making this variable is that people who have high EMI’s might find it difficult to pay back the loan. We can calculate the EMI by taking the ratio of loan amount with resepect to loan amount term.\n",
    "\n",
    "- Balance Income -  This is the income left after the EMI has been paid. Idea behind creating this variable is that if this value is high, the chances are high that a person will repay the loan and hence increasing the chances of loan approval.\n"
   ]
  },
  {
   "cell_type": "markdown",
   "id": "7e609abb",
   "metadata": {},
   "source": [
    "**Total Income**"
   ]
  },
  {
   "cell_type": "code",
   "execution_count": 38,
   "id": "2106b9a4",
   "metadata": {},
   "outputs": [],
   "source": [
    "loan_data['Total_Income'] = loan_data['ApplicantIncome'] + loan_data['CoapplicantIncome']"
   ]
  },
  {
   "cell_type": "code",
   "execution_count": 39,
   "id": "4a1da4d6",
   "metadata": {},
   "outputs": [
    {
     "data": {
      "image/png": "[encoded data removed]",
      "text/plain": [
       "<Figure size 432x288 with 1 Axes>"
      ]
     },
     "metadata": {
      "needs_background": "light"
     },
     "output_type": "display_data"
    }
   ],
   "source": [
    "sns.distplot(loan_data['Total_Income']);"
   ]
  },
  {
   "cell_type": "markdown",
   "id": "6b62076d",
   "metadata": {},
   "source": [
    "We can see it is shifted towards left, i.e., the distribution is right skewed. So, let’s take the log transformation to make the distribution normal."
   ]
  },
  {
   "cell_type": "code",
   "execution_count": 40,
   "id": "f6462e20",
   "metadata": {},
   "outputs": [
    {
     "data": {
      "image/png": "[encoded data removed]",
      "text/plain": [
       "<Figure size 432x288 with 1 Axes>"
      ]
     },
     "metadata": {
      "needs_background": "light"
     },
     "output_type": "display_data"
    }
   ],
   "source": [
    "loan_data['Total_Income_log'] = np.log(loan_data['Total_Income'])\n",
    "sns.distplot(loan_data['Total_Income_log'])\n",
    "plt.show()"
   ]
  },
  {
   "cell_type": "markdown",
   "id": "b3cfff2c",
   "metadata": {},
   "source": [
    "Now the distribution looks much closer to normal and effect of extreme values has been significantly subsided."
   ]
  },
  {
   "cell_type": "markdown",
   "id": "d1881df7",
   "metadata": {},
   "source": [
    "**EMI**"
   ]
  },
  {
   "cell_type": "code",
   "execution_count": 41,
   "id": "ef9a81d8",
   "metadata": {},
   "outputs": [
    {
     "data": {
      "image/png": "[encoded data removed]",
      "text/plain": [
       "<Figure size 432x288 with 1 Axes>"
      ]
     },
     "metadata": {
      "needs_background": "light"
     },
     "output_type": "display_data"
    }
   ],
   "source": [
    "loan_data['EMI'] = loan_data['LoanAmount'] / loan_data['Loan_Amount_Term']\n",
    "sns.distplot(loan_data['EMI']);"
   ]
  },
  {
   "cell_type": "code",
   "execution_count": 42,
   "id": "21a54364",
   "metadata": {},
   "outputs": [
    {
     "data": {
      "image/png": "[encoded data removed]",
      "text/plain": [
       "<Figure size 432x288 with 1 Axes>"
      ]
     },
     "metadata": {
      "needs_background": "light"
     },
     "output_type": "display_data"
    }
   ],
   "source": [
    "loan_data['EMI_log'] = np.log(loan_data['EMI'])\n",
    "sns.distplot(loan_data['EMI_log']);"
   ]
  },
  {
   "cell_type": "markdown",
   "id": "56491e00",
   "metadata": {},
   "source": [
    "**Balance Income**"
   ]
  },
  {
   "cell_type": "code",
   "execution_count": 43,
   "id": "b37feb56",
   "metadata": {},
   "outputs": [
    {
     "data": {
      "image/png": "[encoded data removed]",
      "text/plain": [
       "<Figure size 432x288 with 1 Axes>"
      ]
     },
     "metadata": {
      "needs_background": "light"
     },
     "output_type": "display_data"
    }
   ],
   "source": [
    "loan_data['Balance Income'] = loan_data['Total_Income'] - (loan_data['EMI'] * 1000) #Multiply with 1000 to make the units equal\n",
    "sns.distplot(loan_data['Balance Income']);"
   ]
  },
  {
   "cell_type": "code",
   "execution_count": 44,
   "id": "dd491aa2",
   "metadata": {},
   "outputs": [
    {
     "data": {
      "image/png": "[encoded data removed]",
      "text/plain": [
       "<Figure size 432x288 with 1 Axes>"
      ]
     },
     "metadata": {
      "needs_background": "light"
     },
     "output_type": "display_data"
    }
   ],
   "source": [
    "loan_data['Balance Income_log'] = np.log(loan_data['Balance Income'])\n",
    "sns.distplot(loan_data['Balance Income_log']);"
   ]
  },
  {
   "cell_type": "markdown",
   "id": "8fb24719",
   "metadata": {},
   "source": [
    "- We would now drop the variables which we used to create these new features. \n",
    "\n",
    "- Reason for doing this is, the correlation between those old features and these new features will be very high and logistic regression assumes that the variables are not highly correlated. \n",
    "\n",
    "- We also wants to remove the noise from the dataset, so removing correlated features will help in reducing the noise too."
   ]
  },
  {
   "cell_type": "code",
   "execution_count": 45,
   "id": "5f4832d9",
   "metadata": {},
   "outputs": [],
   "source": [
    "loan_data = loan_data.drop(['ApplicantIncome', 'CoapplicantIncome', 'LoanAmount', 'Loan_Amount_Term'], axis=1) "
   ]
  },
  {
   "cell_type": "code",
   "execution_count": 46,
   "id": "176a5dd6",
   "metadata": {},
   "outputs": [
    {
     "data": {
      "text/plain": [
       "Gender                0\n",
       "Married               0\n",
       "Dependents            0\n",
       "Education             0\n",
       "Self_Employed         0\n",
       "Credit_History        0\n",
       "Property_Area         0\n",
       "Loan_Status           0\n",
       "LoanAmount_log        0\n",
       "Total_Income          0\n",
       "Total_Income_log      0\n",
       "EMI                   0\n",
       "EMI_log               0\n",
       "Balance Income        0\n",
       "Balance Income_log    2\n",
       "dtype: int64"
      ]
     },
     "execution_count": 46,
     "metadata": {},
     "output_type": "execute_result"
    }
   ],
   "source": [
    "loan_data.isnull().sum()"
   ]
  },
  {
   "cell_type": "code",
   "execution_count": 47,
   "id": "065c59ad",
   "metadata": {},
   "outputs": [],
   "source": [
    "loan_data['Balance Income_log'].fillna(\n",
    "    loan_data['Balance Income_log'].median(), \n",
    "    inplace=True\n",
    ") "
   ]
  },
  {
   "cell_type": "code",
   "execution_count": 48,
   "id": "f9cb1218",
   "metadata": {},
   "outputs": [
    {
     "data": {
      "text/plain": [
       "Gender                0\n",
       "Married               0\n",
       "Dependents            0\n",
       "Education             0\n",
       "Self_Employed         0\n",
       "Credit_History        0\n",
       "Property_Area         0\n",
       "Loan_Status           0\n",
       "LoanAmount_log        0\n",
       "Total_Income          0\n",
       "Total_Income_log      0\n",
       "EMI                   0\n",
       "EMI_log               0\n",
       "Balance Income        0\n",
       "Balance Income_log    0\n",
       "dtype: int64"
      ]
     },
     "execution_count": 48,
     "metadata": {},
     "output_type": "execute_result"
    }
   ],
   "source": [
    "loan_data.isnull().sum()"
   ]
  },
  {
   "cell_type": "markdown",
   "id": "d1541eca",
   "metadata": {},
   "source": [
    "### Model Building Part II"
   ]
  },
  {
   "cell_type": "code",
   "execution_count": 49,
   "id": "12238caa",
   "metadata": {},
   "outputs": [],
   "source": [
    "X = loan_data.drop('Loan_Status', 1) \n",
    "y = loan_data.Loan_Status"
   ]
  },
  {
   "cell_type": "markdown",
   "id": "ecf51a66",
   "metadata": {},
   "source": [
    "Now we will make dummy variables for the categorical variables."
   ]
  },
  {
   "cell_type": "code",
   "execution_count": 50,
   "id": "39134cce",
   "metadata": {},
   "outputs": [],
   "source": [
    "X = pd.get_dummies(X) "
   ]
  },
  {
   "cell_type": "code",
   "execution_count": 51,
   "id": "0b57f8e6",
   "metadata": {},
   "outputs": [],
   "source": [
    "from sklearn.model_selection import train_test_split\n",
    "X_train, X_test, y_train, y_test = train_test_split(X, y, test_size=0.3)"
   ]
  },
  {
   "cell_type": "code",
   "execution_count": 52,
   "id": "57b5396c",
   "metadata": {},
   "outputs": [
    {
     "data": {
      "text/plain": [
       "((429, 23), (429,))"
      ]
     },
     "execution_count": 52,
     "metadata": {},
     "output_type": "execute_result"
    }
   ],
   "source": [
    "X_train.shape, y_train.shape"
   ]
  },
  {
   "cell_type": "code",
   "execution_count": 53,
   "id": "889edcaf",
   "metadata": {},
   "outputs": [
    {
     "data": {
      "text/plain": [
       "((185, 23), (185,))"
      ]
     },
     "execution_count": 53,
     "metadata": {},
     "output_type": "execute_result"
    }
   ],
   "source": [
    "X_test.shape, y_test.shape"
   ]
  },
  {
   "cell_type": "code",
   "execution_count": 54,
   "id": "9b0e8918",
   "metadata": {},
   "outputs": [],
   "source": [
    "classifiers = []\n",
    "\n",
    "lr_classifier = LogisticRegression()\n",
    "classifiers.append(lr_classifier)\n",
    "lda_classifier = LinearDiscriminantAnalysis()\n",
    "classifiers.append(lda_classifier)\n",
    "sv_classifier = SVC()\n",
    "classifiers.append(sv_classifier)\n",
    "kn_classifier = KNeighborsClassifier()\n",
    "classifiers.append(kn_classifier)\n",
    "gnb_classifier = GaussianNB()\n",
    "classifiers.append(gnb_classifier)\n",
    "dt_classifier = DecisionTreeClassifier()\n",
    "classifiers.append(dt_classifier)\n",
    "rf_classifier = RandomForestClassifier()\n",
    "classifiers.append(rf_classifier)\n",
    "xgb_classifier = XGBClassifier(eval_metric='logloss')\n",
    "classifiers.append(xgb_classifier)"
   ]
  },
  {
   "cell_type": "code",
   "execution_count": 55,
   "id": "9c293726",
   "metadata": {},
   "outputs": [
    {
     "name": "stdout",
     "output_type": "stream",
     "text": [
      "<class 'sklearn.linear_model._logistic.LogisticRegression'>\n",
      "Accuracy: 0.8486486486486486\n",
      "Precision: 0.8607594936708861\n",
      "Recall: 0.9577464788732394\n",
      "----\n",
      "<class 'sklearn.discriminant_analysis.LinearDiscriminantAnalysis'>\n",
      "Accuracy: 0.8594594594594595\n",
      "Precision: 0.8580246913580247\n",
      "Recall: 0.9788732394366197\n",
      "----\n",
      "<class 'sklearn.svm._classes.SVC'>\n",
      "Accuracy: 0.7513513513513513\n",
      "Precision: 0.7637362637362637\n",
      "Recall: 0.9788732394366197\n",
      "----\n",
      "<class 'sklearn.neighbors._classification.KNeighborsClassifier'>\n",
      "Accuracy: 0.6594594594594595\n",
      "Precision: 0.7801418439716312\n",
      "Recall: 0.7746478873239436\n",
      "----\n",
      "<class 'sklearn.naive_bayes.GaussianNB'>\n",
      "Accuracy: 0.8324324324324325\n",
      "Precision: 0.8675496688741722\n",
      "Recall: 0.9225352112676056\n",
      "----\n",
      "<class 'sklearn.tree._classes.DecisionTreeClassifier'>\n",
      "Accuracy: 0.7243243243243244\n",
      "Precision: 0.8473282442748091\n",
      "Recall: 0.7816901408450704\n",
      "----\n",
      "<class 'sklearn.ensemble._forest.RandomForestClassifier'>\n",
      "Accuracy: 0.8054054054054054\n",
      "Precision: 0.8581081081081081\n",
      "Recall: 0.8943661971830986\n",
      "----\n",
      "<class 'xgboost.sklearn.XGBClassifier'>\n",
      "Accuracy: 0.7675675675675676\n",
      "Precision: 0.8413793103448276\n",
      "Recall: 0.8591549295774648\n",
      "----\n"
     ]
    }
   ],
   "source": [
    "for classifier in classifiers:\n",
    "    print(type(classifier))\n",
    "    classifier.fit(X_train, y_train)\n",
    "    y_pred = classifier.predict(X_test)\n",
    "    print(\"Accuracy:\",metrics.accuracy_score(y_test, y_pred))\n",
    "    print(\"Precision:\",metrics.precision_score(y_test, y_pred, pos_label='Y'))\n",
    "    print(\"Recall:\",metrics.recall_score(y_test, y_pred, pos_label='Y'))\n",
    "    print(\"----\")"
   ]
  },
  {
   "cell_type": "code",
   "execution_count": null,
   "id": "e80c1f71",
   "metadata": {},
   "outputs": [],
   "source": []
  }
 ],
 "metadata": {
  "kernelspec": {
   "display_name": "Python 3",
   "language": "python",
   "name": "python3"
  },
  "language_info": {
   "codemirror_mode": {
    "name": "ipython",
    "version": 3
   },
   "file_extension": ".py",
   "mimetype": "text/x-python",
   "name": "python",
   "nbconvert_exporter": "python",
   "pygments_lexer": "ipython3",
   "version": "3.8.5"
  }
 },
 "nbformat": 4,
 "nbformat_minor": 5
}
