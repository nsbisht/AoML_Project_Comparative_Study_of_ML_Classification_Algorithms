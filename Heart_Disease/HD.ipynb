{
 "cells": [
  {
   "cell_type": "markdown",
   "id": "analyzed-pollution",
   "metadata": {},
   "source": [
    "# Dataset 1: Heart Disease  "
   ]
  },
  {
   "cell_type": "markdown",
   "id": "demographic-ceramic",
   "metadata": {},
   "source": [
    "Download the Heart Disease Dataset and Predict the health condition of the patient. \n",
    "\n",
    "Remember that you must split your data to training and test set. \n",
    "\n",
    "If the goal field is < 2, treat that the sample belongs to a healthy person.\n",
    "\n",
    "Dataset: https://archive.ics.uci.edu/ml/datasets/Heart+Disease"
   ]
  },
  {
   "cell_type": "code",
   "execution_count": 14,
   "id": "guilty-sector",
   "metadata": {},
   "outputs": [],
   "source": [
    "import numpy as np\n",
    "import pandas as pd\n",
    "import matplotlib.pyplot as plt\n",
    "import seaborn as sns\n",
    "from sklearn import preprocessing\n",
    "from sklearn.metrics import log_loss, accuracy_score\n",
    "from sklearn.model_selection import train_test_split\n",
    "\n",
    "from sklearn.linear_model import LogisticRegression\n",
    "from sklearn.tree import DecisionTreeClassifier\n",
    "from sklearn.neighbors import KNeighborsClassifier\n",
    "from sklearn.discriminant_analysis import LinearDiscriminantAnalysis\n",
    "from sklearn.naive_bayes import GaussianNB\n",
    "from sklearn.svm import SVC"
   ]
  },
  {
   "cell_type": "code",
   "execution_count": 2,
   "id": "radio-manner",
   "metadata": {},
   "outputs": [],
   "source": [
    "columns = ['age','sex','cp','trestbps','chol','fbs','restecg','thalach','exang','oldpeak','slope','ca','thal','num']\n",
    "data = pd.read_csv('processed.cleveland.csv', header=None, names=columns)"
   ]
  },
  {
   "cell_type": "markdown",
   "id": "caring-spending",
   "metadata": {},
   "source": [
    "14 attributes used:\n",
    "    \n",
    "1. age: age in years\n",
    "    \n",
    "2. sex: sex (1 = male; 0 = female)\n",
    "\n",
    "3. cp: chest pain type (1: typical angina; 2: atypical angina; 3: non-anginal pain; 4: asymptomatic)\n",
    "\n",
    "4. trestbps: resting blood pressure (in mm Hg on admission to the hospital) \n",
    "\n",
    "5. chol: serum cholestoral in mg/dl\n",
    "\n",
    "6. fbs: fasting blood sugar > 120 mg/dl (1 = true; 0 = false)\n",
    "\n",
    "7. restecg: resting electrocardiographic results (0: normal; 1: having ST-T wave abnormality (T wave inversions and/or ST elevation or depression of > 0.05 mV); 2: showing probable or definite left ventricular hypertrophy by Estes' criteria)\n",
    "\n",
    "8. thalach: maximum heart rate achieved\n",
    "\n",
    "9. exang: exercise induced angina (1 = yes; 0 = no)\n",
    "\n",
    "10.oldpeak: ST depression induced by exercise relative to rest\n",
    "\n",
    "11.slope: the slope of the peak exercise ST segment( 1 = upsloping, 2 = flat, 3 = downsloping )\n",
    "\n",
    "12.ca: number of major vessels (0-3) colored by flourosopy\n",
    "\n",
    "13.thal: (3 = normal; 6 = fixed defect; 7 = reversable defect)\n",
    "\n",
    "14.num: the predicted attribute\n",
    "\n",
    "The \"goal\" field refers to the presence of heart disease in the patient. It is integer valued from 0 (no presence) to 4. Experiments with the Cleveland database have concentrated on simply attempting to distinguish presence (values 1,2,3,4) from absence (value 0)."
   ]
  },
  {
   "cell_type": "code",
   "execution_count": 3,
   "id": "configured-click",
   "metadata": {},
   "outputs": [
    {
     "data": {
      "text/html": [
       "<div>\n",
       "<style scoped>\n",
       "    .dataframe tbody tr th:only-of-type {\n",
       "        vertical-align: middle;\n",
       "    }\n",
       "\n",
       "    .dataframe tbody tr th {\n",
       "        vertical-align: top;\n",
       "    }\n",
       "\n",
       "    .dataframe thead th {\n",
       "        text-align: right;\n",
       "    }\n",
       "</style>\n",
       "<table border=\"1\" class=\"dataframe\">\n",
       "  <thead>\n",
       "    <tr style=\"text-align: right;\">\n",
       "      <th></th>\n",
       "      <th>age</th>\n",
       "      <th>sex</th>\n",
       "      <th>cp</th>\n",
       "      <th>trestbps</th>\n",
       "      <th>chol</th>\n",
       "      <th>fbs</th>\n",
       "      <th>restecg</th>\n",
       "      <th>thalach</th>\n",
       "      <th>exang</th>\n",
       "      <th>oldpeak</th>\n",
       "      <th>slope</th>\n",
       "      <th>ca</th>\n",
       "      <th>thal</th>\n",
       "      <th>num</th>\n",
       "    </tr>\n",
       "  </thead>\n",
       "  <tbody>\n",
       "    <tr>\n",
       "      <th>0</th>\n",
       "      <td>63.0</td>\n",
       "      <td>1.0</td>\n",
       "      <td>1.0</td>\n",
       "      <td>145.0</td>\n",
       "      <td>233.0</td>\n",
       "      <td>1.0</td>\n",
       "      <td>2.0</td>\n",
       "      <td>150.0</td>\n",
       "      <td>0.0</td>\n",
       "      <td>2.3</td>\n",
       "      <td>3.0</td>\n",
       "      <td>0.0</td>\n",
       "      <td>6.0</td>\n",
       "      <td>0</td>\n",
       "    </tr>\n",
       "    <tr>\n",
       "      <th>1</th>\n",
       "      <td>67.0</td>\n",
       "      <td>1.0</td>\n",
       "      <td>4.0</td>\n",
       "      <td>160.0</td>\n",
       "      <td>286.0</td>\n",
       "      <td>0.0</td>\n",
       "      <td>2.0</td>\n",
       "      <td>108.0</td>\n",
       "      <td>1.0</td>\n",
       "      <td>1.5</td>\n",
       "      <td>2.0</td>\n",
       "      <td>3.0</td>\n",
       "      <td>3.0</td>\n",
       "      <td>2</td>\n",
       "    </tr>\n",
       "    <tr>\n",
       "      <th>2</th>\n",
       "      <td>67.0</td>\n",
       "      <td>1.0</td>\n",
       "      <td>4.0</td>\n",
       "      <td>120.0</td>\n",
       "      <td>229.0</td>\n",
       "      <td>0.0</td>\n",
       "      <td>2.0</td>\n",
       "      <td>129.0</td>\n",
       "      <td>1.0</td>\n",
       "      <td>2.6</td>\n",
       "      <td>2.0</td>\n",
       "      <td>2.0</td>\n",
       "      <td>7.0</td>\n",
       "      <td>1</td>\n",
       "    </tr>\n",
       "    <tr>\n",
       "      <th>3</th>\n",
       "      <td>37.0</td>\n",
       "      <td>1.0</td>\n",
       "      <td>3.0</td>\n",
       "      <td>130.0</td>\n",
       "      <td>250.0</td>\n",
       "      <td>0.0</td>\n",
       "      <td>0.0</td>\n",
       "      <td>187.0</td>\n",
       "      <td>0.0</td>\n",
       "      <td>3.5</td>\n",
       "      <td>3.0</td>\n",
       "      <td>0.0</td>\n",
       "      <td>3.0</td>\n",
       "      <td>0</td>\n",
       "    </tr>\n",
       "    <tr>\n",
       "      <th>4</th>\n",
       "      <td>41.0</td>\n",
       "      <td>0.0</td>\n",
       "      <td>2.0</td>\n",
       "      <td>130.0</td>\n",
       "      <td>204.0</td>\n",
       "      <td>0.0</td>\n",
       "      <td>2.0</td>\n",
       "      <td>172.0</td>\n",
       "      <td>0.0</td>\n",
       "      <td>1.4</td>\n",
       "      <td>1.0</td>\n",
       "      <td>0.0</td>\n",
       "      <td>3.0</td>\n",
       "      <td>0</td>\n",
       "    </tr>\n",
       "  </tbody>\n",
       "</table>\n",
       "</div>"
      ],
      "text/plain": [
       "    age  sex   cp  trestbps   chol  fbs  restecg  thalach  exang  oldpeak  \\\n",
       "0  63.0  1.0  1.0     145.0  233.0  1.0      2.0    150.0    0.0      2.3   \n",
       "1  67.0  1.0  4.0     160.0  286.0  0.0      2.0    108.0    1.0      1.5   \n",
       "2  67.0  1.0  4.0     120.0  229.0  0.0      2.0    129.0    1.0      2.6   \n",
       "3  37.0  1.0  3.0     130.0  250.0  0.0      0.0    187.0    0.0      3.5   \n",
       "4  41.0  0.0  2.0     130.0  204.0  0.0      2.0    172.0    0.0      1.4   \n",
       "\n",
       "   slope   ca  thal  num  \n",
       "0    3.0  0.0   6.0    0  \n",
       "1    2.0  3.0   3.0    2  \n",
       "2    2.0  2.0   7.0    1  \n",
       "3    3.0  0.0   3.0    0  \n",
       "4    1.0  0.0   3.0    0  "
      ]
     },
     "execution_count": 3,
     "metadata": {},
     "output_type": "execute_result"
    }
   ],
   "source": [
    "data.head()"
   ]
  },
  {
   "cell_type": "code",
   "execution_count": 4,
   "id": "specified-arabic",
   "metadata": {},
   "outputs": [
    {
     "data": {
      "text/plain": [
       "age         0\n",
       "sex         0\n",
       "cp          0\n",
       "trestbps    0\n",
       "chol        0\n",
       "fbs         0\n",
       "restecg     0\n",
       "thalach     0\n",
       "exang       0\n",
       "oldpeak     0\n",
       "slope       0\n",
       "ca          4\n",
       "thal        2\n",
       "num         0\n",
       "dtype: int64"
      ]
     },
     "execution_count": 4,
     "metadata": {},
     "output_type": "execute_result"
    }
   ],
   "source": [
    "# look for NaN values in each column\n",
    "data.isnull().sum()"
   ]
  },
  {
   "cell_type": "code",
   "execution_count": 5,
   "id": "driving-theory",
   "metadata": {},
   "outputs": [],
   "source": [
    "# preprocessing\n",
    "\n",
    "# Update NaN values with mean of the respective column values\n",
    "data['ca'] = data.ca.fillna(data.ca.mean())\n",
    "data['thal'] = data.thal.fillna(data.thal.mean())\n",
    "\n",
    "# If the goal field is < 2, we treat that the sample belongs to a healthy person.\n",
    "data['num'] = data.num.map({0: 0, 1: 0, 2: 1, 3: 1, 4: 1})"
   ]
  },
  {
   "cell_type": "code",
   "execution_count": 6,
   "id": "played-soundtrack",
   "metadata": {},
   "outputs": [
    {
     "data": {
      "text/html": [
       "<div>\n",
       "<style scoped>\n",
       "    .dataframe tbody tr th:only-of-type {\n",
       "        vertical-align: middle;\n",
       "    }\n",
       "\n",
       "    .dataframe tbody tr th {\n",
       "        vertical-align: top;\n",
       "    }\n",
       "\n",
       "    .dataframe thead th {\n",
       "        text-align: right;\n",
       "    }\n",
       "</style>\n",
       "<table border=\"1\" class=\"dataframe\">\n",
       "  <thead>\n",
       "    <tr style=\"text-align: right;\">\n",
       "      <th></th>\n",
       "      <th>age</th>\n",
       "      <th>sex</th>\n",
       "      <th>cp</th>\n",
       "      <th>trestbps</th>\n",
       "      <th>chol</th>\n",
       "      <th>fbs</th>\n",
       "      <th>restecg</th>\n",
       "      <th>thalach</th>\n",
       "      <th>exang</th>\n",
       "      <th>oldpeak</th>\n",
       "      <th>slope</th>\n",
       "      <th>ca</th>\n",
       "      <th>thal</th>\n",
       "      <th>num</th>\n",
       "    </tr>\n",
       "  </thead>\n",
       "  <tbody>\n",
       "    <tr>\n",
       "      <th>0</th>\n",
       "      <td>63.0</td>\n",
       "      <td>1.0</td>\n",
       "      <td>1.0</td>\n",
       "      <td>145.0</td>\n",
       "      <td>233.0</td>\n",
       "      <td>1.0</td>\n",
       "      <td>2.0</td>\n",
       "      <td>150.0</td>\n",
       "      <td>0.0</td>\n",
       "      <td>2.3</td>\n",
       "      <td>3.0</td>\n",
       "      <td>0.0</td>\n",
       "      <td>6.0</td>\n",
       "      <td>0</td>\n",
       "    </tr>\n",
       "    <tr>\n",
       "      <th>1</th>\n",
       "      <td>67.0</td>\n",
       "      <td>1.0</td>\n",
       "      <td>4.0</td>\n",
       "      <td>160.0</td>\n",
       "      <td>286.0</td>\n",
       "      <td>0.0</td>\n",
       "      <td>2.0</td>\n",
       "      <td>108.0</td>\n",
       "      <td>1.0</td>\n",
       "      <td>1.5</td>\n",
       "      <td>2.0</td>\n",
       "      <td>3.0</td>\n",
       "      <td>3.0</td>\n",
       "      <td>1</td>\n",
       "    </tr>\n",
       "    <tr>\n",
       "      <th>2</th>\n",
       "      <td>67.0</td>\n",
       "      <td>1.0</td>\n",
       "      <td>4.0</td>\n",
       "      <td>120.0</td>\n",
       "      <td>229.0</td>\n",
       "      <td>0.0</td>\n",
       "      <td>2.0</td>\n",
       "      <td>129.0</td>\n",
       "      <td>1.0</td>\n",
       "      <td>2.6</td>\n",
       "      <td>2.0</td>\n",
       "      <td>2.0</td>\n",
       "      <td>7.0</td>\n",
       "      <td>0</td>\n",
       "    </tr>\n",
       "    <tr>\n",
       "      <th>3</th>\n",
       "      <td>37.0</td>\n",
       "      <td>1.0</td>\n",
       "      <td>3.0</td>\n",
       "      <td>130.0</td>\n",
       "      <td>250.0</td>\n",
       "      <td>0.0</td>\n",
       "      <td>0.0</td>\n",
       "      <td>187.0</td>\n",
       "      <td>0.0</td>\n",
       "      <td>3.5</td>\n",
       "      <td>3.0</td>\n",
       "      <td>0.0</td>\n",
       "      <td>3.0</td>\n",
       "      <td>0</td>\n",
       "    </tr>\n",
       "    <tr>\n",
       "      <th>4</th>\n",
       "      <td>41.0</td>\n",
       "      <td>0.0</td>\n",
       "      <td>2.0</td>\n",
       "      <td>130.0</td>\n",
       "      <td>204.0</td>\n",
       "      <td>0.0</td>\n",
       "      <td>2.0</td>\n",
       "      <td>172.0</td>\n",
       "      <td>0.0</td>\n",
       "      <td>1.4</td>\n",
       "      <td>1.0</td>\n",
       "      <td>0.0</td>\n",
       "      <td>3.0</td>\n",
       "      <td>0</td>\n",
       "    </tr>\n",
       "  </tbody>\n",
       "</table>\n",
       "</div>"
      ],
      "text/plain": [
       "    age  sex   cp  trestbps   chol  fbs  restecg  thalach  exang  oldpeak  \\\n",
       "0  63.0  1.0  1.0     145.0  233.0  1.0      2.0    150.0    0.0      2.3   \n",
       "1  67.0  1.0  4.0     160.0  286.0  0.0      2.0    108.0    1.0      1.5   \n",
       "2  67.0  1.0  4.0     120.0  229.0  0.0      2.0    129.0    1.0      2.6   \n",
       "3  37.0  1.0  3.0     130.0  250.0  0.0      0.0    187.0    0.0      3.5   \n",
       "4  41.0  0.0  2.0     130.0  204.0  0.0      2.0    172.0    0.0      1.4   \n",
       "\n",
       "   slope   ca  thal  num  \n",
       "0    3.0  0.0   6.0    0  \n",
       "1    2.0  3.0   3.0    1  \n",
       "2    2.0  2.0   7.0    0  \n",
       "3    3.0  0.0   3.0    0  \n",
       "4    1.0  0.0   3.0    0  "
      ]
     },
     "execution_count": 6,
     "metadata": {},
     "output_type": "execute_result"
    }
   ],
   "source": [
    "data.head()"
   ]
  },
  {
   "cell_type": "code",
   "execution_count": 7,
   "id": "executed-yellow",
   "metadata": {},
   "outputs": [
    {
     "data": {
      "image/png": "[encoded data removed]",
      "text/plain": [
       "<Figure size 720x720 with 2 Axes>"
      ]
     },
     "metadata": {
      "needs_background": "light"
     },
     "output_type": "display_data"
    }
   ],
   "source": [
    "# Correlation matrix measures the linear relationships between the variables\n",
    "correlation_matrix = data.corr().round(2)\n",
    "plt.figure(figsize = (10,10))\n",
    "sns.heatmap(data=correlation_matrix, annot=True, linewidths=.5)\n",
    "plt.show()"
   ]
  },
  {
   "cell_type": "markdown",
   "id": "dental-arabic",
   "metadata": {},
   "source": [
    "### Logistic Regression (using all features)"
   ]
  },
  {
   "cell_type": "code",
   "execution_count": 11,
   "id": "registered-somerset",
   "metadata": {},
   "outputs": [],
   "source": [
    "min_max_scaler = preprocessing.MinMaxScaler()\n",
    "\n",
    "X = data.iloc[:, :-1].values\n",
    "Y = data.iloc[:, -1].values\n",
    "\n",
    "# Normalize features\n",
    "X = min_max_scaler.fit_transform(X)\n",
    "\n",
    "X_train, X_test, Y_train, Y_test = train_test_split(X, Y, test_size = 0.3, random_state = 0)"
   ]
  },
  {
   "cell_type": "code",
   "execution_count": 16,
   "id": "sunset-aviation",
   "metadata": {},
   "outputs": [
    {
     "data": {
      "text/plain": [
       "[LogisticRegression(),\n",
       " DecisionTreeClassifier(),\n",
       " KNeighborsClassifier(),\n",
       " LinearDiscriminantAnalysis(),\n",
       " GaussianNB(),\n",
       " SVC()]"
      ]
     },
     "execution_count": 16,
     "metadata": {},
     "output_type": "execute_result"
    }
   ],
   "source": [
    "classifiers = []\n",
    "\n",
    "lr_classifier = LogisticRegression().fit(X_train, Y_train)\n",
    "classifiers.append(lr_classifier)\n",
    "dt_classifier = DecisionTreeClassifier().fit(X_train, Y_train)\n",
    "classifiers.append(dt_classifier)\n",
    "kn_classifier = KNeighborsClassifier().fit(X_train, Y_train)\n",
    "classifiers.append(kn_classifier)\n",
    "lda_classifier = LinearDiscriminantAnalysis().fit(X_train, Y_train)\n",
    "classifiers.append(lda_classifier)\n",
    "gnb_classifier = GaussianNB().fit(X_train, Y_train)\n",
    "classifiers.append(gnb_classifier)\n",
    "sv_classifier = SVC().fit(X_train, Y_train)\n",
    "classifiers.append(sv_classifier)\n",
    "\n",
    "classifiers"
   ]
  },
  {
   "cell_type": "code",
   "execution_count": 9,
   "id": "accredited-judgment",
   "metadata": {},
   "outputs": [
    {
     "name": "stdout",
     "output_type": "stream",
     "text": [
      "Training Set: Binary cross-entropy loss: 4.3988479161996255\n",
      "Test Set: Binary cross-entropy loss: 5.693257620969686\n"
     ]
    }
   ],
   "source": [
    "Y_pred_train = classifier.predict(X_train)\n",
    "print(f'Training Set: Binary cross-entropy loss: {log_loss(Y_train, Y_pred_train)}')\n",
    "Y_pred_test = classifier.predict(X_test)\n",
    "print(f'Test Set: Binary cross-entropy loss: {log_loss(Y_test, Y_pred_test)}')"
   ]
  },
  {
   "cell_type": "code",
   "execution_count": 10,
   "id": "developed-paris",
   "metadata": {},
   "outputs": [
    {
     "name": "stdout",
     "output_type": "stream",
     "text": [
      "Training set: Accuracy = 0.8726415094339622\n",
      "Test set: Accuracy = 0.8351648351648352\n"
     ]
    }
   ],
   "source": [
    "print(f'Training set: Accuracy = {accuracy_score(Y_train, Y_pred_train)}')\n",
    "print(f'Test set: Accuracy = {accuracy_score(Y_test, Y_pred_test)}')"
   ]
  },
  {
   "cell_type": "code",
   "execution_count": 21,
   "id": "moved-boxing",
   "metadata": {},
   "outputs": [
    {
     "name": "stdout",
     "output_type": "stream",
     "text": [
      "LogisticRegression()\n",
      "Training Set: Binary cross-entropy loss: 4.3988479161996255\n",
      "Test Set: Binary cross-entropy loss: 5.693257620969686\n",
      "Training set: Accuracy = 0.8726415094339622\n",
      "Test set: Accuracy = 0.8351648351648352\n",
      "----\n",
      "DecisionTreeClassifier()\n",
      "Training Set: Binary cross-entropy loss: 9.992007221626413e-16\n",
      "Test Set: Binary cross-entropy loss: 7.970574728213477\n",
      "Training set: Accuracy = 1.0\n",
      "Test set: Accuracy = 0.7692307692307693\n",
      "----\n",
      "KNeighborsClassifier()\n",
      "Training Set: Binary cross-entropy loss: 5.539301842373947\n",
      "Test Set: Binary cross-entropy loss: 6.072822187890248\n",
      "Training set: Accuracy = 0.839622641509434\n",
      "Test set: Accuracy = 0.8241758241758241\n",
      "----\n",
      "LinearDiscriminantAnalysis()\n",
      "Training Set: Binary cross-entropy loss: 4.561777987837367\n",
      "Test Set: Binary cross-entropy loss: 5.693266407754633\n",
      "Training set: Accuracy = 0.8679245283018868\n",
      "Test set: Accuracy = 0.8351648351648352\n",
      "----\n",
      "GaussianNB()\n",
      "Training Set: Binary cross-entropy loss: 4.724719374533084\n",
      "Test Set: Binary cross-entropy loss: 6.072839761460141\n",
      "Training set: Accuracy = 0.8632075471698113\n",
      "Test set: Accuracy = 0.8241758241758241\n",
      "----\n",
      "SVC()\n",
      "Training Set: Binary cross-entropy loss: 3.9101105048902816\n",
      "Test Set: Binary cross-entropy loss: 5.313736987973861\n",
      "Training set: Accuracy = 0.8867924528301887\n",
      "Test set: Accuracy = 0.8461538461538461\n",
      "----\n"
     ]
    }
   ],
   "source": [
    "for classifier in classifiers:\n",
    "    print(classifier)\n",
    "    Y_pred_train = classifier.predict(X_train)\n",
    "    print(f'Training Set: Binary cross-entropy loss: {log_loss(Y_train, Y_pred_train)}')\n",
    "    Y_pred_test = classifier.predict(X_test)\n",
    "    print(f'Test Set: Binary cross-entropy loss: {log_loss(Y_test, Y_pred_test)}')\n",
    "    print(f'Training set: Accuracy = {accuracy_score(Y_train, Y_pred_train)}')\n",
    "    print(f'Test set: Accuracy = {accuracy_score(Y_test, Y_pred_test)}')\n",
    "    print(\"----\")"
   ]
  },
  {
   "cell_type": "code",
   "execution_count": null,
   "id": "moral-hometown",
   "metadata": {},
   "outputs": [],
   "source": []
  }
 ],
 "metadata": {
  "kernelspec": {
   "display_name": "Python 3",
   "language": "python",
   "name": "python3"
  },
  "language_info": {
   "codemirror_mode": {
    "name": "ipython",
    "version": 3
   },
   "file_extension": ".py",
   "mimetype": "text/x-python",
   "name": "python",
   "nbconvert_exporter": "python",
   "pygments_lexer": "ipython3",
   "version": "3.8.5"
  }
 },
 "nbformat": 4,
 "nbformat_minor": 5
}
